{
 "cells": [
  {
   "cell_type": "markdown",
   "metadata": {},
   "source": [
    "# Downloading a Subset of Level 1B Data using OPeNDAP"
   ]
  },
  {
   "cell_type": "markdown",
   "metadata": {},
   "source": [
    "This tutorial will walk you through how to download a spatial and variable subset of data.  If you are only interested in a small region of the data, it is not necessary to obtain the entire data set. For example, downloading one full orbit of OCO-2 Level 1B data from the GES DISC can take several minutes, while downloading a granule of the data takes a matter of seconds."
   ]
  },
  {
   "cell_type": "markdown",
   "metadata": {},
   "source": [
    "## Procedure"
   ]
  },
  {
   "cell_type": "markdown",
   "metadata": {},
   "source": [
    "We will identify granules in data by looking at the latitude and longitude cooridantes for regions of interest.  In this tutorial, we are interested extracting a subset of OCO-2 Level 1B radiances within a 5x5 degree box centered at the Mauna Loa volcano in Hawaii."
   ]
  },
  {
   "cell_type": "markdown",
   "metadata": {},
   "source": [
    "Before we begin, there are software packages you will need on your local machine."
   ]
  },
  {
   "cell_type": "markdown",
   "metadata": {},
   "source": [
    "First, you'll need some Python dependencies.\n",
    "\n",
    "* *pydap*: conda install -c conda-forge pydap=3.2.1\n",
    "* *numpy*: If you are using Anaconda, this will be pre-installed.\n",
    "* *getpass* : This is also pre-installed.\n",
    "\n",
    "Next, you will need:\n",
    "\n",
    "* *wget*\n",
    "* *grep*\n",
    "* *egrep*\n",
    "\n",
    "Obtaining the last three programs will be machine specific.  You can start by going to this website: https://www.gnu.org/software/"
   ]
  },
  {
   "cell_type": "markdown",
   "metadata": {},
   "source": [
    "## 1. Finding the Data Set"
   ]
  },
  {
   "cell_type": "markdown",
   "metadata": {},
   "source": [
    "We can find the appropriate dataset using DAAC search engines such as OpenSearch or navigating OpenNDAP directories of data sets. Let's go through these three methods."
   ]
  },
  {
   "cell_type": "markdown",
   "metadata": {},
   "source": [
    "#### 1.1 Navigating OpenNDAP Directories"
   ]
  },
  {
   "cell_type": "markdown",
   "metadata": {},
   "source": [
    "1. Go to the following URL: https://oco2.gesdisc.eosdis.nasa.gov/opendap/hyrax/\n",
    "\n",
    "2. Open the directory: OCO2_L1B_Science.7r/\n",
    "\n",
    "3. Open the directory: 2015/\n",
    "\n",
    "4. Open the directory: 015/\n",
    "\n",
    "5. Click on the last file: oco2_L1bScND_02879a_150115_B7000r_150616093751.h5"
   ]
  },
  {
   "cell_type": "markdown",
   "metadata": {},
   "source": [
    "You are now on an OpenNDAP Server Dataset Access Form. From here, you can download the entire data set as a NetCDF-4 File (in the *Action* row)."
   ]
  },
  {
   "cell_type": "markdown",
   "metadata": {},
   "source": [
    "#### 1.2 Using OpenSearch to Obtain Subset of Data"
   ]
  },
  {
   "cell_type": "markdown",
   "metadata": {},
   "source": [
    "Let's suppose we want granules from 09/01/2014 to 08/31/2015 that have observations near a 5x5 degree of Mauna Loa. A quick search on Google Maps shows that Mauna Loa is located at -155.590951, 19.472847 (longitude, latitude).  We can use OpenSearch to find granules given the spatial or temporal criteria."
   ]
  },
  {
   "cell_type": "markdown",
   "metadata": {},
   "source": [
    "1. Navigate to http://mirador.gsfc.nasa.gov/OpenSearch\n",
    "\n",
    "2. Click on the file: OCO2_L1B_Science.7r\n",
    "\n",
    "3. Enter the Start Time: 09/01/2014\n",
    "\n",
    "4. Enter the End Time: 08/31/2015"
   ]
  },
  {
   "cell_type": "markdown",
   "metadata": {},
   "source": [
    "In the Spatial Box, we are going to input our geophysical region of interest. In our case, we would like a 5x5 degree box.   "
   ]
  },
  {
   "cell_type": "markdown",
   "metadata": {},
   "source": [
    "Enter in: -158.09, 16.97, -153.09 ,22.07.  These locations (in latitude and longitude) correspond to west, south, east, north boundaries, respectively. Click submit. The XML file that now appears contains a list of all the URLs that correspond to granules from the specified criteria as well as additional information about each granule."
   ]
  },
  {
   "cell_type": "markdown",
   "metadata": {
    "collapsed": true
   },
   "source": [
    "If you would like to download this XML file as text, run the following line from the Command Prompt (make sure you run this command in the same directory as the current Jupyter Notebook):\n",
    "\n",
    "> \n",
    "wget -q \"http://mirador.gsfc.nasa.gov/cgi-bin/mirador/granlist.pl?searchType=Nominal&format=atom&startTime=2014-09-01T00:00:00Z&endTime=2015-09-01T00:00:00Z&osLocation=-158.09,16.97,-153.09,22.07&maxgranules=10000&dataSet=OCO2_L1B_Science.7r\" -O - | grep 'OPeNDAP HTML' | egrep -o 'href=\\\".\\*h5.html\\\"' | egrep -o 'http.\\*html' > my_list.txt"
   ]
  },
  {
   "cell_type": "markdown",
   "metadata": {},
   "source": [
    "Notice that the URL in this command contains our spatial and temporal parameters as well as the dataset we are looking at."
   ]
  },
  {
   "cell_type": "markdown",
   "metadata": {},
   "source": [
    "* *wget*: Retrieve a file from the world wide web\n",
    "* *grep*: Pattern matching command\n",
    "* *egrep*: Extention of grep\n",
    "\n",
    "Notice that the output of *wget* is piped by use of \"|\" to grep/egrep.  The output of grep/egrep is redirected to my_list.txt by use of \">\"."
   ]
  },
  {
   "cell_type": "markdown",
   "metadata": {},
   "source": [
    "You now have a file (my_list.txt) containing all of the URLs that contain the right granules of the data set."
   ]
  },
  {
   "cell_type": "code",
   "execution_count": 6,
   "metadata": {},
   "outputs": [
    {
     "name": "stdout",
     "output_type": "stream",
     "text": [
      "https://oco2.gesdisc.eosdis.nasa.gov/opendap/OCO2_L1B_Science.7r/2014/252/oco2_L1bScGL_01015a_140909_B7000r_150603124338.h5\n",
      "https://oco2.gesdisc.eosdis.nasa.gov/opendap/OCO2_L1B_Science.7r/2014/254/oco2_L1bScGL_01044a_140911_B7000r_150603233021.h5\n",
      "https://oco2.gesdisc.eosdis.nasa.gov/opendap/OCO2_L1B_Science.7r/2014/256/oco2_L1bScGL_01073a_140913_B7000r_150604051650.h5\n",
      "https://oco2.gesdisc.eosdis.nasa.gov/opendap/OCO2_L1B_Science.7r/2014/261/oco2_L1bScGL_01146a_140918_B7000r_150605173100.h5\n",
      "https://oco2.gesdisc.eosdis.nasa.gov/opendap/OCO2_L1B_Science.7r/2014/263/oco2_L1bScGL_01175a_140920_B7000r_150606035458.h5\n",
      "https://oco2.gesdisc.eosdis.nasa.gov/opendap/OCO2_L1B_Science.7r/2014/265/oco2_L1bScGL_01204a_140922_B7000r_150606061714.h5\n",
      "https://oco2.gesdisc.eosdis.nasa.gov/opendap/OCO2_L1B_Science.7r/2014/268/oco2_L1bScND_01248a_140925_B7000r_150606134456.h5\n",
      "https://oco2.gesdisc.eosdis.nasa.gov/opendap/OCO2_L1B_Science.7r/2014/270/oco2_L1bScND_01277a_140927_B7000r_150606204617.h5\n",
      "https://oco2.gesdisc.eosdis.nasa.gov/opendap/OCO2_L1B_Science.7r/2014/275/oco2_L1bScND_01350a_141002_B7000r_150608122725.h5\n",
      "https://oco2.gesdisc.eosdis.nasa.gov/opendap/OCO2_L1B_Science.7r/2014/277/oco2_L1bScND_01379a_141004_B7000r_150608104230.h5\n",
      "https://oco2.gesdisc.eosdis.nasa.gov/opendap/OCO2_L1B_Science.7r/2014/279/oco2_L1bScND_01408a_141006_B7000r_150608100517.h5\n",
      "https://oco2.gesdisc.eosdis.nasa.gov/opendap/OCO2_L1B_Science.7r/2014/284/oco2_L1bScND_01481a_141011_B7000r_150608213220.h5\n",
      "https://oco2.gesdisc.eosdis.nasa.gov/opendap/OCO2_L1B_Science.7r/2014/286/oco2_L1bScND_01510a_141013_B7000r_150609055035.h5\n",
      "https://oco2.gesdisc.eosdis.nasa.gov/opendap/OCO2_L1B_Science.7r/2014/291/oco2_L1bScND_01583a_141018_B7000r_150609175150.h5\n",
      "https://oco2.gesdisc.eosdis.nasa.gov/opendap/OCO2_L1B_Science.7r/2014/293/oco2_L1bScND_01612a_141020_B7000r_150609173657.h5\n",
      "https://oco2.gesdisc.eosdis.nasa.gov/opendap/OCO2_L1B_Science.7r/2014/295/oco2_L1bScND_01641a_141022_B7000r_150609162259.h5\n",
      "https://oco2.gesdisc.eosdis.nasa.gov/opendap/OCO2_L1B_Science.7r/2014/302/oco2_L1bScGL_01743a_141029_B7000r_150609194733.h5\n",
      "https://oco2.gesdisc.eosdis.nasa.gov/opendap/OCO2_L1B_Science.7r/2014/304/oco2_L1bScGL_01772a_141031_B7000r_150609202744.h5\n",
      "https://oco2.gesdisc.eosdis.nasa.gov/opendap/OCO2_L1B_Science.7r/2014/309/oco2_L1bScGL_01845a_141105_B7000r_150610091625.h5\n",
      "https://oco2.gesdisc.eosdis.nasa.gov/opendap/OCO2_L1B_Science.7r/2014/311/oco2_L1bScGL_01874a_141107_B7000r_150610103300.h5\n",
      "https://oco2.gesdisc.eosdis.nasa.gov/opendap/OCO2_L1B_Science.7r/2014/313/oco2_L1bScGL_01903a_141109_B7000r_150610114659.h5\n",
      "https://oco2.gesdisc.eosdis.nasa.gov/opendap/OCO2_L1B_Science.7r/2014/316/oco2_L1bScND_01947a_141112_B7000r_150610124939.h5\n",
      "https://oco2.gesdisc.eosdis.nasa.gov/opendap/OCO2_L1B_Science.7r/2014/318/oco2_L1bScND_01976a_141114_B7000r_150612080222.h5\n",
      "https://oco2.gesdisc.eosdis.nasa.gov/opendap/OCO2_L1B_Science.7r/2014/323/oco2_L1bScND_02049a_141119_B7000r_150613024204.h5\n",
      "https://oco2.gesdisc.eosdis.nasa.gov/opendap/OCO2_L1B_Science.7r/2014/327/oco2_L1bScND_02107a_141123_B7000r_150613032857.h5\n",
      "https://oco2.gesdisc.eosdis.nasa.gov/opendap/OCO2_L1B_Science.7r/2014/332/oco2_L1bScGL_02180a_141128_B7000r_150613143711.h5\n",
      "https://oco2.gesdisc.eosdis.nasa.gov/opendap/OCO2_L1B_Science.7r/2014/334/oco2_L1bScGL_02209a_141130_B7000r_150613210422.h5\n",
      "https://oco2.gesdisc.eosdis.nasa.gov/opendap/OCO2_L1B_Science.7r/2014/336/oco2_L1bScGL_02238a_141202_B7000r_150609005049.h5\n",
      "https://oco2.gesdisc.eosdis.nasa.gov/opendap/OCO2_L1B_Science.7r/2014/338/oco2_L1bScGL_02267a_141204_B7000r_150609045138.h5\n",
      "https://oco2.gesdisc.eosdis.nasa.gov/opendap/OCO2_L1B_Science.7r/2014/341/oco2_L1bScGL_02311a_141207_B7000r_150613221740.h5\n",
      "https://oco2.gesdisc.eosdis.nasa.gov/opendap/OCO2_L1B_Science.7r/2014/343/oco2_L1bScGL_02340a_141209_B7000r_150613231953.h5\n",
      "https://oco2.gesdisc.eosdis.nasa.gov/opendap/OCO2_L1B_Science.7r/2014/345/oco2_L1bScGL_02369a_141211_B7000r_150614042234.h5\n",
      "https://oco2.gesdisc.eosdis.nasa.gov/opendap/OCO2_L1B_Science.7r/2014/350/oco2_L1bScND_02442a_141216_B7000r_150614164401.h5\n",
      "https://oco2.gesdisc.eosdis.nasa.gov/opendap/OCO2_L1B_Science.7r/2014/352/oco2_L1bScND_02471a_141218_B7000r_150614182249.h5\n",
      "https://oco2.gesdisc.eosdis.nasa.gov/opendap/OCO2_L1B_Science.7r/2014/355/oco2_L1bScND_02515a_141221_B7000r_150614190013.h5\n",
      "https://oco2.gesdisc.eosdis.nasa.gov/opendap/OCO2_L1B_Science.7r/2014/357/oco2_L1bScND_02544a_141223_B7000r_150614202116.h5\n",
      "https://oco2.gesdisc.eosdis.nasa.gov/opendap/OCO2_L1B_Science.7r/2014/359/oco2_L1bScND_02573a_141225_B7000r_150614211218.h5\n",
      "https://oco2.gesdisc.eosdis.nasa.gov/opendap/OCO2_L1B_Science.7r/2015/001/oco2_L1bScGL_02675a_150101_B7000r_150615234856.h5\n",
      "https://oco2.gesdisc.eosdis.nasa.gov/opendap/OCO2_L1B_Science.7r/2015/003/oco2_L1bScGL_02704a_150103_B7000r_150616002247.h5\n",
      "https://oco2.gesdisc.eosdis.nasa.gov/opendap/OCO2_L1B_Science.7r/2015/005/oco2_L1bScGL_02733a_150105_B7000r_150616013045.h5\n",
      "https://oco2.gesdisc.eosdis.nasa.gov/opendap/OCO2_L1B_Science.7r/2015/010/oco2_L1bScGL_02806a_150110_B7000r_150616024242.h5\n",
      "https://oco2.gesdisc.eosdis.nasa.gov/opendap/OCO2_L1B_Science.7r/2015/015/oco2_L1bScND_02879a_150115_B7000r_150616093751.h5\n",
      "https://oco2.gesdisc.eosdis.nasa.gov/opendap/OCO2_L1B_Science.7r/2015/026/oco2_L1bScND_03039a_150126_B7000r_150616193415.h5\n",
      "https://oco2.gesdisc.eosdis.nasa.gov/opendap/OCO2_L1B_Science.7r/2015/033/oco2_L1bScGL_03141a_150202_B7000r_150617004208.h5\n",
      "https://oco2.gesdisc.eosdis.nasa.gov/opendap/OCO2_L1B_Science.7r/2015/035/oco2_L1bScGL_03170a_150204_B7000r_150617020749.h5\n",
      "https://oco2.gesdisc.eosdis.nasa.gov/opendap/OCO2_L1B_Science.7r/2015/040/oco2_L1bScGL_03243a_150209_B7000r_150623095339.h5\n",
      "https://oco2.gesdisc.eosdis.nasa.gov/opendap/OCO2_L1B_Science.7r/2015/042/oco2_L1bScGL_03272a_150211_B7000r_150623133713.h5\n",
      "https://oco2.gesdisc.eosdis.nasa.gov/opendap/OCO2_L1B_Science.7r/2015/044/oco2_L1bScGL_03301a_150213_B7000r_150623214438.h5\n",
      "https://oco2.gesdisc.eosdis.nasa.gov/opendap/OCO2_L1B_Science.7r/2015/047/oco2_L1bScND_03345a_150216_B7000r_150721185355.h5\n",
      "https://oco2.gesdisc.eosdis.nasa.gov/opendap/OCO2_L1B_Science.7r/2015/054/oco2_L1bScND_03447a_150223_B7000r_150624211109.h5\n",
      "https://oco2.gesdisc.eosdis.nasa.gov/opendap/OCO2_L1B_Science.7r/2015/056/oco2_L1bScND_03476a_150225_B7000r_150625023330.h5\n",
      "https://oco2.gesdisc.eosdis.nasa.gov/opendap/OCO2_L1B_Science.7r/2015/058/oco2_L1bScND_03505a_150227_B7000r_150625025511.h5\n",
      "https://oco2.gesdisc.eosdis.nasa.gov/opendap/OCO2_L1B_Science.7r/2015/063/oco2_L1bScGL_03578a_150304_B7000r_150625150602.h5\n",
      "https://oco2.gesdisc.eosdis.nasa.gov/opendap/OCO2_L1B_Science.7r/2015/065/oco2_L1bScGL_03607a_150306_B7000r_150625223209.h5\n",
      "https://oco2.gesdisc.eosdis.nasa.gov/opendap/OCO2_L1B_Science.7r/2015/067/oco2_L1bScGL_03636a_150308_B7000r_150626050717.h5\n",
      "https://oco2.gesdisc.eosdis.nasa.gov/opendap/OCO2_L1B_Science.7r/2015/072/oco2_L1bScGL_03709a_150313_B7000r_150720235110.h5\n",
      "https://oco2.gesdisc.eosdis.nasa.gov/opendap/OCO2_L1B_Science.7r/2015/076/oco2_L1bScGL_03767a_150317_B7000r_150627012614.h5\n",
      "https://oco2.gesdisc.eosdis.nasa.gov/opendap/OCO2_L1B_Science.7r/2015/079/oco2_L1bScND_03811a_150320_B7000r_150627092530.h5\n",
      "https://oco2.gesdisc.eosdis.nasa.gov/opendap/OCO2_L1B_Science.7r/2015/081/oco2_L1bScND_03840a_150322_B7000r_150627163830.h5\n",
      "https://oco2.gesdisc.eosdis.nasa.gov/opendap/OCO2_L1B_Science.7r/2015/083/oco2_L1bScND_03869a_150324_B7000r_150627125924.h5\n",
      "https://oco2.gesdisc.eosdis.nasa.gov/opendap/OCO2_L1B_Science.7r/2015/086/oco2_L1bScND_03913a_150327_B7000r_150627213712.h5\n",
      "https://oco2.gesdisc.eosdis.nasa.gov/opendap/OCO2_L1B_Science.7r/2015/088/oco2_L1bScND_03942a_150329_B7000r_150609164757.h5\n",
      "https://oco2.gesdisc.eosdis.nasa.gov/opendap/OCO2_L1B_Science.7r/2015/090/oco2_L1bScND_03971a_150331_B7000r_150609134213.h5\n",
      "https://oco2.gesdisc.eosdis.nasa.gov/opendap/OCO2_L1B_Science.7r/2015/095/oco2_L1bScGL_04044a_150405_B7000r_150609061253.h5\n",
      "https://oco2.gesdisc.eosdis.nasa.gov/opendap/OCO2_L1B_Science.7r/2015/097/oco2_L1bScGL_04073a_150407_B7000r_150607040907.h5\n",
      "https://oco2.gesdisc.eosdis.nasa.gov/opendap/OCO2_L1B_Science.7r/2015/099/oco2_L1bScGL_04102a_150409_B7000r_150609000120.h5\n",
      "https://oco2.gesdisc.eosdis.nasa.gov/opendap/OCO2_L1B_Science.7r/2015/104/oco2_L1bScGL_04175a_150414_B7000r_150608171925.h5\n",
      "https://oco2.gesdisc.eosdis.nasa.gov/opendap/OCO2_L1B_Science.7r/2015/129/oco2_L1bScND_04539a_150509_B7000r_150607141832.h5\n",
      "https://oco2.gesdisc.eosdis.nasa.gov/opendap/OCO2_L1B_Science.7r/2015/134/oco2_L1bScND_04612a_150514_B7000r_150601234133.h5\n",
      "https://oco2.gesdisc.eosdis.nasa.gov/opendap/OCO2_L1B_Science.7r/2015/136/oco2_L1bScND_04641a_150516_B7000r_150601215055.h5\n",
      "https://oco2.gesdisc.eosdis.nasa.gov/opendap/OCO2_L1B_Science.7r/2015/138/oco2_L1bScND_04670a_150518_B7000r_150601183529.h5\n",
      "https://oco2.gesdisc.eosdis.nasa.gov/opendap/OCO2_L1B_Science.7r/2015/143/oco2_L1bScGL_04743a_150523_B7000r_150604210922.h5\n",
      "https://oco2.gesdisc.eosdis.nasa.gov/opendap/OCO2_L1B_Science.7r/2015/145/oco2_L1bScGL_04772a_150525_B7000r_150605065125.h5\n",
      "https://oco2.gesdisc.eosdis.nasa.gov/opendap/OCO2_L1B_Science.7r/2015/147/oco2_L1bScGL_04801a_150527_B7000r_150605112848.h5\n",
      "https://oco2.gesdisc.eosdis.nasa.gov/opendap/OCO2_L1B_Science.7r/2015/150/oco2_L1bScGL_04845a_150530_B7000r_150925000222.h5\n",
      "https://oco2.gesdisc.eosdis.nasa.gov/opendap/OCO2_L1B_Science.7r/2015/152/oco2_L1bScGL_04874a_150601_B7000r_150925045528.h5\n",
      "https://oco2.gesdisc.eosdis.nasa.gov/opendap/OCO2_L1B_Science.7r/2015/154/oco2_L1bScGL_04903a_150603_B7000r_150925092553.h5\n",
      "https://oco2.gesdisc.eosdis.nasa.gov/opendap/OCO2_L1B_Science.7r/2015/159/oco2_L1bScND_04976a_150608_B7000r_150925193757.h5\n",
      "https://oco2.gesdisc.eosdis.nasa.gov/opendap/OCO2_L1B_Science.7r/2015/161/oco2_L1bScND_05005a_150610_B7000r_150925235812.h5\n",
      "https://oco2.gesdisc.eosdis.nasa.gov/opendap/OCO2_L1B_Science.7r/2015/166/oco2_L1bScND_05078a_150615_B7000r_150926093321.h5\n",
      "https://oco2.gesdisc.eosdis.nasa.gov/opendap/OCO2_L1B_Science.7r/2015/168/oco2_L1bScND_05107a_150617_B7000r_150926130116.h5\n",
      "https://oco2.gesdisc.eosdis.nasa.gov/opendap/OCO2_L1B_Science.7r/2015/170/oco2_L1bScND_05136a_150619_B7000r_150926153108.h5\n",
      "https://oco2.gesdisc.eosdis.nasa.gov/opendap/OCO2_L1B_Science.7r/2015/175/oco2_L1bScGL_05209a_150624_B7000r_150927013419.h5\n",
      "https://oco2.gesdisc.eosdis.nasa.gov/opendap/OCO2_L1B_Science.7r/2015/177/oco2_L1bScGL_05238a_150626_B7000r_150927061654.h5\n",
      "https://oco2.gesdisc.eosdis.nasa.gov/opendap/OCO2_L1B_Science.7r/2015/179/oco2_L1bScGL_05267a_150628_B7000r_150927111546.h5\n",
      "https://oco2.gesdisc.eosdis.nasa.gov/opendap/OCO2_L1B_Science.7r/2015/184/oco2_L1bScND_05340a_150703_B7000r_150927205020.h5\n",
      "https://oco2.gesdisc.eosdis.nasa.gov/opendap/OCO2_L1B_Science.7r/2015/186/oco2_L1bScGL_05369a_150705_B7000r_150928003216.h5\n",
      "https://oco2.gesdisc.eosdis.nasa.gov/opendap/OCO2_L1B_Science.7r/2015/191/oco2_L1bScND_05442a_150710_B7000r_150928112741.h5\n",
      "https://oco2.gesdisc.eosdis.nasa.gov/opendap/OCO2_L1B_Science.7r/2015/193/oco2_L1bScGL_05471a_150712_B7000r_150928150432.h5\n",
      "https://oco2.gesdisc.eosdis.nasa.gov/opendap/OCO2_L1B_Science.7r/2015/198/oco2_L1bScND_05544a_150717_B7000r_150929044529.h5\n",
      "https://oco2.gesdisc.eosdis.nasa.gov/opendap/OCO2_L1B_Science.7r/2015/200/oco2_L1bScGL_05573a_150719_B7000r_150929071839.h5\n",
      "https://oco2.gesdisc.eosdis.nasa.gov/opendap/OCO2_L1B_Science.7r/2015/202/oco2_L1bScND_05602a_150721_B7000r_150929100311.h5\n",
      "https://oco2.gesdisc.eosdis.nasa.gov/opendap/OCO2_L1B_Science.7r/2015/204/oco2_L1bScGL_05631a_150723_B7000r_150929143900.h5\n",
      "https://oco2.gesdisc.eosdis.nasa.gov/opendap/OCO2_L1B_Science.7r/2015/207/oco2_L1bScGL_05675a_150726_B7000r_150929185943.h5\n",
      "https://oco2.gesdisc.eosdis.nasa.gov/opendap/OCO2_L1B_Science.7r/2015/209/oco2_L1bScND_05704a_150728_B7000r_150929212147.h5\n",
      "https://oco2.gesdisc.eosdis.nasa.gov/opendap/OCO2_L1B_Science.7r/2015/211/oco2_L1bScGL_05733a_150730_B7000r_150929225806.h5\n",
      "https://oco2.gesdisc.eosdis.nasa.gov/opendap/OCO2_L1B_Science.7r/2015/216/oco2_L1bScND_05806a_150804_B7000r_150930005711.h5\n",
      "https://oco2.gesdisc.eosdis.nasa.gov/opendap/OCO2_L1B_Science.7r/2015/218/oco2_L1bScGL_05835a_150806_B7000r_150930063648.h5\n",
      "https://oco2.gesdisc.eosdis.nasa.gov/opendap/OCO2_L1B_Science.7r/2015/223/oco2_L1bScND_05908a_150811_B7000r_150930075159.h5\n",
      "https://oco2.gesdisc.eosdis.nasa.gov/opendap/OCO2_L1B_Science.7r/2015/225/oco2_L1bScGL_05937a_150813_B7000r_150930082723.h5\n",
      "https://oco2.gesdisc.eosdis.nasa.gov/opendap/OCO2_L1B_Science.7r/2015/227/oco2_L1bScND_05966a_150815_B7000r_150930085815.h5\n",
      "https://oco2.gesdisc.eosdis.nasa.gov/opendap/OCO2_L1B_Science.7r/2015/230/oco2_L1bScND_06010a_150818_B7000r_150930161550.h5\n",
      "https://oco2.gesdisc.eosdis.nasa.gov/opendap/OCO2_L1B_Science.7r/2015/232/oco2_L1bScGL_06039a_150820_B7000r_150930164714.h5\n",
      "https://oco2.gesdisc.eosdis.nasa.gov/opendap/OCO2_L1B_Science.7r/2015/234/oco2_L1bScND_06068a_150822_B7000r_150930172454.h5\n",
      "https://oco2.gesdisc.eosdis.nasa.gov/opendap/OCO2_L1B_Science.7r/2015/239/oco2_L1bScGL_06141a_150827_B7000r_150930182730.h5\n",
      "https://oco2.gesdisc.eosdis.nasa.gov/opendap/OCO2_L1B_Science.7r/2015/241/oco2_L1bScND_06170a_150829_B7000r_150930190735.h5\n",
      "https://oco2.gesdisc.eosdis.nasa.gov/opendap/OCO2_L1B_Science.7r/2015/243/oco2_L1bScGL_06199a_150831_B7000r_151001024553.h5\n"
     ]
    }
   ],
   "source": [
    "for line in open(\"my_list.txt\", \"r\").readlines():\n",
    "    print(line[:-6])"
   ]
  },
  {
   "cell_type": "markdown",
   "metadata": {},
   "source": [
    "#### 1.3 Using OPeNDAP URL Suffixes"
   ]
  },
  {
   "cell_type": "markdown",
   "metadata": {},
   "source": [
    "Adding \".html\" to any of these URLs will take you to the OPeNDAP Data Access Form for that granule. You can download the data from here."
   ]
  },
  {
   "cell_type": "markdown",
   "metadata": {},
   "source": [
    "Adding \".ddx\", \".ddx\", \".das\", \".info\", and \".rdf\" returns the metadata for that granule. \".info\" is the most useful in a web browser."
   ]
  },
  {
   "cell_type": "markdown",
   "metadata": {},
   "source": [
    "Adding \".ascii\", \".nc\", \".nc4\", \".dods\" will return the files in various formats such as netCDF-4."
   ]
  },
  {
   "cell_type": "markdown",
   "metadata": {},
   "source": [
    "## 2. Obtaining the Geolocation Data"
   ]
  },
  {
   "cell_type": "markdown",
   "metadata": {},
   "source": [
    "Now that we have URLs that contain the granules of data, let's actually get the subset of data onto our computer."
   ]
  },
  {
   "cell_type": "markdown",
   "metadata": {},
   "source": [
    "We will use the following granule from the above list: https://oco2.gesdisc.eosdis.nasa.gov/opendap/OCO2_L1B_Science.7r/2015/015/oco2_L1bScND_02879a_150115_B7000r_150616093751.h5"
   ]
  },
  {
   "cell_type": "markdown",
   "metadata": {},
   "source": [
    "Add \".html\" to this URL and go to that webpage."
   ]
  },
  {
   "cell_type": "markdown",
   "metadata": {},
   "source": [
    "Find the variables\n",
    "\n",
    "1. _SoundingGeometry_sounding_latitude\n",
    "2. _SoundingGeometry_sounding_longitude"
   ]
  },
  {
   "cell_type": "markdown",
   "metadata": {},
   "source": [
    "To the side of these variable names, you can see the dimensions of both variables: [ = 0..8363][ = 0..7]"
   ]
  },
  {
   "cell_type": "markdown",
   "metadata": {},
   "source": [
    "We can use these dimensions to download specific longitude and latitude data. Since we have already constrained the data to a 5x5 degree window around the volcano, we will just download the entire latitude and longitude data.  "
   ]
  },
  {
   "cell_type": "markdown",
   "metadata": {},
   "source": [
    "First, we will first append a \".nc4\" to the .h5 URL.  Then, we will add \"?\" followed by the variable names for latitude and longitude."
   ]
  },
  {
   "cell_type": "markdown",
   "metadata": {},
   "source": [
    "https://oco2.gesdisc.eosdis.nasa.gov/opendap/OCO2_L1B_Science.7r/2015/015/oco2_L1bScND_02879a_150115_B7000r_150616093751.h5.nc4?_SoundingGeometry_sounding_latitude,_SoundingGeometry_sounding_longitude"
   ]
  },
  {
   "cell_type": "markdown",
   "metadata": {},
   "source": [
    "You can download a netCDF-4 file using this URL.  The following URLs will also return the same netCDF-4 file."
   ]
  },
  {
   "cell_type": "markdown",
   "metadata": {},
   "source": [
    "https://oco2.gesdisc.eosdis.nasa.gov/opendap/OCO2_L1B_Science.7r/2015/015/oco2_L1bScND_02879a_150115_B7000r_150616093751.h5.nc4?_SoundingGeometry_sounding_latitude[0:8363][0:7],_SoundingGeometry_sounding_longitude[0:8363][0:7]"
   ]
  },
  {
   "cell_type": "markdown",
   "metadata": {},
   "source": [
    "https://oco2.gesdisc.eosdis.nasa.gov/opendap/OCO2_L1B_Science.7r/2015/015/oco2_L1bScND_02879a_150115_B7000r_150616093751.h5.nc4?_SoundingGeometry_sounding_latitude[0:1:8363][0:1:7],_SoundingGeometry_sounding_longitude[0:1:8363][0:1:7]"
   ]
  },
  {
   "cell_type": "markdown",
   "metadata": {},
   "source": [
    "In the last example: [0:1:8363] means start at index 0, stride by 1, end at index 8362. In other words, [start index, stride integer, stop index]"
   ]
  },
  {
   "cell_type": "markdown",
   "metadata": {},
   "source": [
    "Any of the above URLs can be used in a web browser to obtain a netCDF-4 file containing the pertinent data. Additionally, you can use wget to download this data."
   ]
  },
  {
   "cell_type": "markdown",
   "metadata": {},
   "source": [
    "> wget -O downloaded_file.nc4 \"https://oco2.gesdisc.eosdis.nasa.gov/opendap/OCO2_L1B_Science.7r/2015/015/oco2_L1bScND_02879a_150115_B7000r_150616093751.h5.nc4?_SoundingGeometry_sounding_latitude[0:8363][0:7],_SoundingGeometry_sounding_longitude[0:8363][0:7]\""
   ]
  },
  {
   "cell_type": "markdown",
   "metadata": {},
   "source": [
    "Using the above wget command will result in a file called downloaded_file.nc4 in your directory with latitude and longitude variables."
   ]
  },
  {
   "cell_type": "markdown",
   "metadata": {},
   "source": [
    "## 3. Reading Spatial Subsets into Python"
   ]
  },
  {
   "cell_type": "markdown",
   "metadata": {},
   "source": [
    "Instead of donwloading a file containing the latitude and longitude values, you can read these into your Python script directly.  We are going to make use of the pydap package.\n",
    "\n",
    "### 3.1 Using Pydap"
   ]
  },
  {
   "cell_type": "code",
   "execution_count": 7,
   "metadata": {
    "collapsed": true
   },
   "outputs": [],
   "source": [
    "from pydap.client import open_url\n",
    "from pydap.cas.urs import setup_session\n",
    "import numpy as np"
   ]
  },
  {
   "cell_type": "markdown",
   "metadata": {},
   "source": [
    "Now, we can set up a variable to store the original .h5 URL we were working with."
   ]
  },
  {
   "cell_type": "code",
   "execution_count": 8,
   "metadata": {
    "collapsed": true
   },
   "outputs": [],
   "source": [
    "opendap_url = r'https://oco2.gesdisc.eosdis.nasa.gov/opendap/hyrax/OCO2_L1B_Science.7r/2015/015/oco2_L1bScND_02879a_150115_B7000r_150616093751.h5'"
   ]
  },
  {
   "cell_type": "markdown",
   "metadata": {},
   "source": [
    "The \"r\" in front of the string ensures the URL is read a *raw string literal* so that it ignores special characters (such as \\t)."
   ]
  },
  {
   "cell_type": "code",
   "execution_count": 9,
   "metadata": {},
   "outputs": [
    {
     "name": "stdout",
     "output_type": "stream",
     "text": [
      "https://oco2.gesdisc.eosdis.nasa.gov/opendap/hyrax/OCO2_L1B_Science.7r/2015/015/oco2_L1bScND_02879a_150115_B7000r_150616093751.h5\n"
     ]
    }
   ],
   "source": [
    "print(opendap_url)"
   ]
  },
  {
   "cell_type": "markdown",
   "metadata": {},
   "source": [
    "Let's use the pydap package to have access to the data set through the URL. Note that we do not need to download the data set in this case. To do this, we are going to need setup a pydap session that will allow us to access the .h5 URL. You're going to need your Earthdata credentials."
   ]
  },
  {
   "cell_type": "code",
   "execution_count": 38,
   "metadata": {
    "collapsed": true
   },
   "outputs": [],
   "source": [
    "import getpass"
   ]
  },
  {
   "cell_type": "code",
   "execution_count": 39,
   "metadata": {},
   "outputs": [
    {
     "name": "stdout",
     "output_type": "stream",
     "text": [
      "········\n"
     ]
    }
   ],
   "source": [
    "username = getpass.getpass()"
   ]
  },
  {
   "cell_type": "code",
   "execution_count": 40,
   "metadata": {},
   "outputs": [
    {
     "name": "stdout",
     "output_type": "stream",
     "text": [
      "········\n"
     ]
    }
   ],
   "source": [
    "password = getpass.getpass()"
   ]
  },
  {
   "cell_type": "code",
   "execution_count": 41,
   "metadata": {
    "collapsed": true
   },
   "outputs": [],
   "source": [
    "session = setup_session(username=username, password=password, check_url=opendap_url)"
   ]
  },
  {
   "cell_type": "markdown",
   "metadata": {},
   "source": [
    "Notice that we create two variables, username and password, which contain the string literals of the Earthdata login info.  The *getpass* package allows us to store our username and password as hidden string literals."
   ]
  },
  {
   "cell_type": "code",
   "execution_count": 42,
   "metadata": {
    "collapsed": true
   },
   "outputs": [],
   "source": [
    "dataset = open_url(opendap_url, session=session)"
   ]
  },
  {
   "cell_type": "markdown",
   "metadata": {},
   "source": [
    "We can inspect this data set and see all of the variables and measurments."
   ]
  },
  {
   "cell_type": "code",
   "execution_count": 43,
   "metadata": {},
   "outputs": [
    {
     "data": {
      "text/plain": [
       "{'DODS_EXTRA': {},\n",
       " 'NC_GLOBAL': {},\n",
       " '_Dimensions': {},\n",
       " '_Dimensions_AncFile': {'Description': 'Number of ancillary input files.',\n",
       "  'Size': 4,\n",
       "  'fullnamepath': '/Dimensions/AncFile'},\n",
       " '_Dimensions_DeclockingGroupO2': {'Description': 'Spectral colors for ABO2 declocking',\n",
       "  'Size': 5,\n",
       "  'fullnamepath': '/Dimensions/DeclockingGroupO2'},\n",
       " '_Dimensions_DeclockingGroupStrongCO2': {'Description': 'Spectral colors for SCO2 declocking',\n",
       "  'Size': 2,\n",
       "  'fullnamepath': '/Dimensions/DeclockingGroupStrongCO2'},\n",
       " '_Dimensions_DeclockingGroupWeakCO2': {'Description': 'Spectral colors for WCO2 declocking',\n",
       "  'Size': 4,\n",
       "  'fullnamepath': '/Dimensions/DeclockingGroupWeakCO2'},\n",
       " '_Dimensions_DeltaLambda': {'Description': 'Instrument line shape delta lambda.',\n",
       "  'Size': 200,\n",
       "  'fullnamepath': '/Dimensions/DeltaLambda'},\n",
       " '_Dimensions_DispersionCoefficient': {'Description': 'Dispersion Coefficients.',\n",
       "  'Size': 6,\n",
       "  'fullnamepath': '/Dimensions/DispersionCoefficient'},\n",
       " '_Dimensions_EuclidDim': {'Description': 'Euclid Dimension Size',\n",
       "  'Size': 3,\n",
       "  'fullnamepath': '/Dimensions/EuclidDim'},\n",
       " '_Dimensions_Frame': {'Description': 'Index of frame in granule.',\n",
       "  'Size': 8364,\n",
       "  'fullnamepath': '/Dimensions/Frame'},\n",
       " '_Dimensions_Gap': {'Description': 'Number of gaps.',\n",
       "  'Size': 1,\n",
       "  'fullnamepath': '/Dimensions/Gap'},\n",
       " '_Dimensions_InputPtr': {'Description': 'Number of primary input files.',\n",
       "  'Size': 2,\n",
       "  'fullnamepath': '/Dimensions/InputPtr'},\n",
       " '_Dimensions_JumpColorO2': {'Description': 'Spatial shifts due to ABO2 clocking',\n",
       "  'Size': 4,\n",
       "  'fullnamepath': '/Dimensions/JumpColorO2'},\n",
       " '_Dimensions_JumpColorStrongCO2': {'Description': 'Spatial shifts due to SCO2 clocking',\n",
       "  'Size': 8,\n",
       "  'fullnamepath': '/Dimensions/JumpColorStrongCO2'},\n",
       " '_Dimensions_JumpColorWeakCO2': {'Description': 'Spatial shifts due to WCO2 clocking',\n",
       "  'Size': 3,\n",
       "  'fullnamepath': '/Dimensions/JumpColorWeakCO2'},\n",
       " '_Dimensions_O2Slice': {'Description': 'Index of color pixel for O2 channel.',\n",
       "  'Size': 20,\n",
       "  'fullnamepath': '/Dimensions/O2Slice'},\n",
       " '_Dimensions_OrbitParamPtr': {'Description': 'Attitude and ephemeris files.',\n",
       "  'Size': 2,\n",
       "  'fullnamepath': '/Dimensions/OrbitParamPtr'},\n",
       " '_Dimensions_ResidualCoefficient': {'Description': 'Residual Estimate Coefficients',\n",
       "  'Size': 5,\n",
       "  'fullnamepath': '/Dimensions/ResidualCoefficient'},\n",
       " '_Dimensions_SNRCoef': {'Description': 'Signal noise ratio coefficients.',\n",
       "  'Size': 3,\n",
       "  'fullnamepath': '/Dimensions/SNRCoef'},\n",
       " '_Dimensions_SciColor': {'Description': 'Index of color for L1B science radiance.',\n",
       "  'Size': 1016,\n",
       "  'fullnamepath': '/Dimensions/SciColor'},\n",
       " '_Dimensions_Sounding': {'Description': 'Index of downlinked sounding in granule.',\n",
       "  'Size': 8,\n",
       "  'fullnamepath': '/Dimensions/Sounding'},\n",
       " '_Dimensions_SoundingPosition': {'Description': 'Sounding positions',\n",
       "  'Size': 8,\n",
       "  'fullnamepath': '/Dimensions/SoundingPosition'},\n",
       " '_Dimensions_SpatialRow': {'Description': 'Index of raw spatial pixel.',\n",
       "  'Size': 220,\n",
       "  'fullnamepath': '/Dimensions/SpatialRow'},\n",
       " '_Dimensions_Spectrum': {'Description': 'Spectrum index(O2, WeakCO2, StrongCO2).',\n",
       "  'Size': 3,\n",
       "  'fullnamepath': '/Dimensions/Spectrum'},\n",
       " '_Dimensions_StokesCoefficient': {'Description': 'Stokes Coefficients',\n",
       "  'Size': 4,\n",
       "  'fullnamepath': '/Dimensions/StokesCoefficient'},\n",
       " '_Dimensions_StrongCO2Slice': {'Description': 'Index of color pixel for Strong CO2 channel.',\n",
       "  'Size': 20,\n",
       "  'fullnamepath': '/Dimensions/StrongCO2Slice'},\n",
       " '_Dimensions_Vertex': {'Description': 'Footprint corner vertex',\n",
       "  'Size': 4,\n",
       "  'fullnamepath': '/Dimensions/Vertex'},\n",
       " '_Dimensions_WeakCO2Slice': {'Description': 'Index of color pixel for Weak CO2 channel.',\n",
       "  'Size': 20,\n",
       "  'fullnamepath': '/Dimensions/WeakCO2Slice'},\n",
       " '_FootprintGeometry': {},\n",
       " '_FrameConfiguration': {},\n",
       " '_FrameGeometry': {},\n",
       " '_FrameHeader': {},\n",
       " '_FrameTemperatures': {},\n",
       " '_InstrumentHeader': {},\n",
       " '_Metadata': {},\n",
       " '_RadianceClockingCorrection': {},\n",
       " '_Shapes': {},\n",
       " '_Shapes_AncFile_Array': {'Dimensions': 'AncFile',\n",
       "  'Rank': 1,\n",
       "  'fullnamepath': '/Shapes/AncFile_Array'},\n",
       " '_Shapes_Frame_Array': {'Dimensions': 'Frame',\n",
       "  'Rank': 1,\n",
       "  'fullnamepath': '/Shapes/Frame_Array'},\n",
       " '_Shapes_Frame_EuclidDim_Array': {'Dimensions': ['Frame', 'EuclidDim'],\n",
       "  'Rank': 2,\n",
       "  'fullnamepath': '/Shapes/Frame_EuclidDim_Array'},\n",
       " '_Shapes_Frame_O2Slice_Array': {'Dimensions': ['Frame', 'O2Slice'],\n",
       "  'Rank': 2,\n",
       "  'fullnamepath': '/Shapes/Frame_O2Slice_Array'},\n",
       " '_Shapes_Frame_O2Slice_SpatialRow_Array': {'Dimensions': ['Frame',\n",
       "   'O2Slice',\n",
       "   'SpatialRow'],\n",
       "  'Rank': 3,\n",
       "  'fullnamepath': '/Shapes/Frame_O2Slice_SpatialRow_Array'},\n",
       " '_Shapes_Frame_SoundingPosition_Spectrum_Array': {'Dimensions': ['Frame',\n",
       "   'SoundingPosition',\n",
       "   'Spectrum'],\n",
       "  'Rank': 3,\n",
       "  'fullnamepath': '/Shapes/Frame_SoundingPosition_Spectrum_Array'},\n",
       " '_Shapes_Frame_Sounding_Array': {'Dimensions': ['Frame', 'Sounding'],\n",
       "  'Rank': 2,\n",
       "  'fullnamepath': '/Shapes/Frame_Sounding_Array'},\n",
       " '_Shapes_Frame_Sounding_DeclockingGroupO2_JumpColorO2_Array': {'Dimensions': ['Frame',\n",
       "   'Sounding',\n",
       "   'DeclockingGroupO2',\n",
       "   'JumpColorO2'],\n",
       "  'Rank': 4,\n",
       "  'fullnamepath': '/Shapes/Frame_Sounding_DeclockingGroupO2_JumpColorO2_Array'},\n",
       " '_Shapes_Frame_Sounding_DeclockingGroupStrongCO2_JumpColorStrongCO2_Array': {'Dimensions': ['Frame',\n",
       "   'Sounding',\n",
       "   'DeclockingGroupStrongCO2',\n",
       "   'JumpColorStrongCO2'],\n",
       "  'Rank': 4,\n",
       "  'fullnamepath': '/Shapes/Frame_Sounding_DeclockingGroupStrongCO2_JumpColorStrongCO2_Array'},\n",
       " '_Shapes_Frame_Sounding_DeclockingGroupWeakCO2_JumpColorWeakCO2_Array': {'Dimensions': ['Frame',\n",
       "   'Sounding',\n",
       "   'DeclockingGroupWeakCO2',\n",
       "   'JumpColorWeakCO2'],\n",
       "  'Rank': 4,\n",
       "  'fullnamepath': '/Shapes/Frame_Sounding_DeclockingGroupWeakCO2_JumpColorWeakCO2_Array'},\n",
       " '_Shapes_Frame_Sounding_SciColor_Array': {'Dimensions': ['Frame',\n",
       "   'Sounding',\n",
       "   'SciColor'],\n",
       "  'Rank': 3,\n",
       "  'fullnamepath': '/Shapes/Frame_Sounding_SciColor_Array'},\n",
       " '_Shapes_Frame_Sounding_Spectrum_Array': {'Dimensions': ['Frame',\n",
       "   'Sounding',\n",
       "   'Spectrum'],\n",
       "  'Rank': 3,\n",
       "  'fullnamepath': '/Shapes/Frame_Sounding_Spectrum_Array'},\n",
       " '_Shapes_Frame_Sounding_Spectrum_StokesCoefficient_Array': {'Dimensions': ['Frame',\n",
       "   'Sounding',\n",
       "   'Spectrum',\n",
       "   'StokesCoefficient'],\n",
       "  'Rank': 4,\n",
       "  'fullnamepath': '/Shapes/Frame_Sounding_Spectrum_StokesCoefficient_Array'},\n",
       " '_Shapes_Frame_Sounding_Spectrum_Vertex_Array': {'Dimensions': ['Frame',\n",
       "   'Sounding',\n",
       "   'Spectrum',\n",
       "   'Vertex'],\n",
       "  'Rank': 4,\n",
       "  'fullnamepath': '/Shapes/Frame_Sounding_Spectrum_Vertex_Array'},\n",
       " '_Shapes_Frame_Spectrum_Array': {'Dimensions': ['Frame', 'Spectrum'],\n",
       "  'Rank': 2,\n",
       "  'fullnamepath': '/Shapes/Frame_Spectrum_Array'},\n",
       " '_Shapes_Frame_StrongCO2Slice_Array': {'Dimensions': ['Frame',\n",
       "   'StrongCO2Slice'],\n",
       "  'Rank': 2,\n",
       "  'fullnamepath': '/Shapes/Frame_StrongCO2Slice_Array'},\n",
       " '_Shapes_Frame_StrongCO2Slice_SpatialRow_Array': {'Dimensions': ['Frame',\n",
       "   'StrongCO2Slice',\n",
       "   'SpatialRow'],\n",
       "  'Rank': 3,\n",
       "  'fullnamepath': '/Shapes/Frame_StrongCO2Slice_SpatialRow_Array'},\n",
       " '_Shapes_Frame_WeakCO2Slice_Array': {'Dimensions': ['Frame', 'WeakCO2Slice'],\n",
       "  'Rank': 2,\n",
       "  'fullnamepath': '/Shapes/Frame_WeakCO2Slice_Array'},\n",
       " '_Shapes_Frame_WeakCO2Slice_SpatialRow_Array': {'Dimensions': ['Frame',\n",
       "   'WeakCO2Slice',\n",
       "   'SpatialRow'],\n",
       "  'Rank': 3,\n",
       "  'fullnamepath': '/Shapes/Frame_WeakCO2Slice_SpatialRow_Array'},\n",
       " '_Shapes_Gap_Array': {'Dimensions': 'Gap',\n",
       "  'Rank': 1,\n",
       "  'fullnamepath': '/Shapes/Gap_Array'},\n",
       " '_Shapes_InputPtr_Array': {'Dimensions': 'InputPtr',\n",
       "  'Rank': 1,\n",
       "  'fullnamepath': '/Shapes/InputPtr_Array'},\n",
       " '_Shapes_O2Slice_Array': {'Dimensions': 'O2Slice',\n",
       "  'Rank': 1,\n",
       "  'fullnamepath': '/Shapes/O2Slice_Array'},\n",
       " '_Shapes_OrbitParamPtr_Array': {'Dimensions': 'OrbitParamPtr',\n",
       "  'Rank': 1,\n",
       "  'fullnamepath': '/Shapes/OrbitParamPtr_Array'},\n",
       " '_Shapes_Scalar': {'Rank': 0, 'fullnamepath': '/Shapes/Scalar'},\n",
       " '_Shapes_SoundingPosition_Array': {'Dimensions': 'SoundingPosition',\n",
       "  'Rank': 1,\n",
       "  'fullnamepath': '/Shapes/SoundingPosition_Array'},\n",
       " '_Shapes_Spectrum_Array': {'Dimensions': 'Spectrum',\n",
       "  'Rank': 1,\n",
       "  'fullnamepath': '/Shapes/Spectrum_Array'},\n",
       " '_Shapes_Spectrum_SciColor_Array': {'Dimensions': ['Spectrum', 'SciColor'],\n",
       "  'Rank': 2,\n",
       "  'fullnamepath': '/Shapes/Spectrum_SciColor_Array'},\n",
       " '_Shapes_Spectrum_Sounding_Array': {'Dimensions': ['Spectrum', 'Sounding'],\n",
       "  'Rank': 2,\n",
       "  'fullnamepath': '/Shapes/Spectrum_Sounding_Array'},\n",
       " '_Shapes_Spectrum_Sounding_DispersionCoefficient_Array': {'Dimensions': ['Spectrum',\n",
       "   'Sounding',\n",
       "   'DispersionCoefficient'],\n",
       "  'Rank': 3,\n",
       "  'fullnamepath': '/Shapes/Spectrum_Sounding_DispersionCoefficient_Array'},\n",
       " '_Shapes_Spectrum_Sounding_SciColor_Array': {'Dimensions': ['Spectrum',\n",
       "   'Sounding',\n",
       "   'SciColor'],\n",
       "  'Rank': 3,\n",
       "  'fullnamepath': '/Shapes/Spectrum_Sounding_SciColor_Array'},\n",
       " '_Shapes_Spectrum_Sounding_SciColor_DeltaLambda_Array': {'Dimensions': ['Spectrum',\n",
       "   'Sounding',\n",
       "   'SciColor',\n",
       "   'DeltaLambda'],\n",
       "  'Rank': 4,\n",
       "  'fullnamepath': '/Shapes/Spectrum_Sounding_SciColor_DeltaLambda_Array'},\n",
       " '_Shapes_Spectrum_Sounding_SciColor_ResidualCoefficient_Array': {'Dimensions': ['Spectrum',\n",
       "   'Sounding',\n",
       "   'SciColor',\n",
       "   'ResidualCoefficient'],\n",
       "  'Rank': 4,\n",
       "  'fullnamepath': '/Shapes/Spectrum_Sounding_SciColor_ResidualCoefficient_Array'},\n",
       " '_Shapes_Spectrum_Sounding_SciColor_SNRCoef_Array': {'Dimensions': ['Spectrum',\n",
       "   'Sounding',\n",
       "   'SciColor',\n",
       "   'SNRCoef'],\n",
       "  'Rank': 4,\n",
       "  'fullnamepath': '/Shapes/Spectrum_Sounding_SciColor_SNRCoef_Array'},\n",
       " '_Shapes_StrongCO2Slice_Array': {'Dimensions': 'StrongCO2Slice',\n",
       "  'Rank': 1,\n",
       "  'fullnamepath': '/Shapes/StrongCO2Slice_Array'},\n",
       " '_Shapes_WeakCO2Slice_Array': {'Dimensions': 'WeakCO2Slice',\n",
       "  'Rank': 1,\n",
       "  'fullnamepath': '/Shapes/WeakCO2Slice_Array'},\n",
       " '_SliceMeasurements': {},\n",
       " '_SoundingGeometry': {},\n",
       " '_SoundingMeasurements': {},\n",
       " '_SpikeEOF': {}}"
      ]
     },
     "execution_count": 43,
     "metadata": {},
     "output_type": "execute_result"
    }
   ],
   "source": [
    "dataset.attributes"
   ]
  },
  {
   "cell_type": "markdown",
   "metadata": {},
   "source": [
    "### 3.2 Indexing Data based on Bounded Region"
   ]
  },
  {
   "cell_type": "markdown",
   "metadata": {},
   "source": [
    "Let's grab the latitude and longitude data we were working with earlier."
   ]
  },
  {
   "cell_type": "code",
   "execution_count": 17,
   "metadata": {
    "collapsed": true
   },
   "outputs": [],
   "source": [
    "sounding_geometry_sounding_latitude = dataset[\"_SoundingGeometry_sounding_latitude\"]\n",
    "sounding_geometry_sounding_longitude = dataset[\"_SoundingGeometry_sounding_longitude\"]"
   ]
  },
  {
   "cell_type": "code",
   "execution_count": 18,
   "metadata": {},
   "outputs": [
    {
     "data": {
      "text/plain": [
       "(8364, 8)"
      ]
     },
     "execution_count": 18,
     "metadata": {},
     "output_type": "execute_result"
    }
   ],
   "source": [
    "sounding_geometry_sounding_latitude.shape"
   ]
  },
  {
   "cell_type": "markdown",
   "metadata": {},
   "source": [
    "These two variables hold the entire longitude and latitude coordinates information.  Remember, we were interested in a 5x5 degree region around Mauna Loa the volcano (-155.59, 19.47). The region was given by the following coordinates:\n",
    "* west: -158.09\n",
    "* south: 16.97\n",
    "* east: -153.09\n",
    "* north: 22.07"
   ]
  },
  {
   "cell_type": "code",
   "execution_count": 19,
   "metadata": {
    "collapsed": true
   },
   "outputs": [],
   "source": [
    "west = -158.09\n",
    "south = 16.97\n",
    "east = -153.09\n",
    "north = 22.07\n",
    "region_of_interest = [west, south, east, north]"
   ]
  },
  {
   "cell_type": "markdown",
   "metadata": {},
   "source": [
    "We can use the numpy function, np.where, to find the indices of data that match our region of interest."
   ]
  },
  {
   "cell_type": "code",
   "execution_count": 20,
   "metadata": {
    "collapsed": true
   },
   "outputs": [],
   "source": [
    "indices_above_west_south, indices_below_east_north = np.where(( sounding_geometry_sounding_longitude.data[:] > region_of_interest[0]) \\\n",
    "                                                              & (sounding_geometry_sounding_latitude.data[:] > region_of_interest[1]) \\\n",
    "                                                              &     (sounding_geometry_sounding_longitude[:] < region_of_interest[2]) \\\n",
    "                                                              &     (sounding_geometry_sounding_latitude[:] < region_of_interest[3]))"
   ]
  },
  {
   "cell_type": "code",
   "execution_count": 21,
   "metadata": {},
   "outputs": [
    {
     "data": {
      "text/plain": [
       "array([5992, 5992, 5992, ..., 6245, 6245, 6246], dtype=int64)"
      ]
     },
     "execution_count": 21,
     "metadata": {},
     "output_type": "execute_result"
    }
   ],
   "source": [
    "indices_above_west_south"
   ]
  },
  {
   "cell_type": "code",
   "execution_count": 22,
   "metadata": {},
   "outputs": [
    {
     "data": {
      "text/plain": [
       "array([0, 1, 2, ..., 6, 7, 7], dtype=int64)"
      ]
     },
     "execution_count": 22,
     "metadata": {},
     "output_type": "execute_result"
    }
   ],
   "source": [
    "indices_below_east_north"
   ]
  },
  {
   "cell_type": "markdown",
   "metadata": {},
   "source": [
    "Now, we have the indices that correspond to the data for each variable within a 5x5 degree of the volcano."
   ]
  },
  {
   "cell_type": "markdown",
   "metadata": {},
   "source": [
    "Now that we have the appropriate indices, let's first get the subset of latitude and longitude coordinates that correspond to this data. We'll create two variables that will be our ranges for indexing."
   ]
  },
  {
   "cell_type": "code",
   "execution_count": 23,
   "metadata": {
    "collapsed": true
   },
   "outputs": [],
   "source": [
    "west_south_slice = slice(indices_above_west_south.min(), indices_above_west_south.max() + 1)\n",
    "east_north_slice = slice(indices_below_east_north.min(), indices_below_east_north.max() + 1)"
   ]
  },
  {
   "cell_type": "code",
   "execution_count": 24,
   "metadata": {},
   "outputs": [
    {
     "name": "stdout",
     "output_type": "stream",
     "text": [
      "['c', 'd', 'e']\n"
     ]
    }
   ],
   "source": [
    "# Here's an example of how slices work in Python\n",
    "example_list = ['a', 'b', 'c', 'd', 'e', 'f', 'g', 'h']\n",
    "example_cde = slice(2,5)\n",
    "print(example_list[example_cde])"
   ]
  },
  {
   "cell_type": "markdown",
   "metadata": {},
   "source": [
    "Let's get the subsets of the latitude and longitude data."
   ]
  },
  {
   "cell_type": "code",
   "execution_count": 25,
   "metadata": {
    "collapsed": true
   },
   "outputs": [],
   "source": [
    "latitude_subset = dataset[\"_SoundingGeometry_sounding_latitude\"].data[west_south_slice, east_north_slice]\n",
    "longitude_subset = dataset[\"_SoundingGeometry_sounding_longitude\"].data[west_south_slice, east_north_slice]"
   ]
  },
  {
   "cell_type": "markdown",
   "metadata": {},
   "source": [
    "Compare this subset of latitude data to the total latitude data."
   ]
  },
  {
   "cell_type": "code",
   "execution_count": 26,
   "metadata": {},
   "outputs": [
    {
     "name": "stdout",
     "output_type": "stream",
     "text": [
      "Subset Latitude shape: (255, 8)\n",
      "Total Latitude shape : (8364, 8)\n"
     ]
    }
   ],
   "source": [
    "print(\"Subset Latitude shape:\", latitude_subset.shape)\n",
    "print(\"Total Latitude shape :\", sounding_geometry_sounding_latitude.shape)"
   ]
  },
  {
   "cell_type": "markdown",
   "metadata": {},
   "source": [
    "Now, let's get the subsets of the actual measurements we want. In this case, O2 Radiance, Strong CO2 Radiance, and Weak CO2 Radiance."
   ]
  },
  {
   "cell_type": "code",
   "execution_count": 27,
   "metadata": {
    "collapsed": true
   },
   "outputs": [],
   "source": [
    "radiance_O2_subset = dataset[\"_SoundingMeasurements_radiance_o2\"].data[west_south_slice, east_north_slice]\n",
    "radiance_strong_CO2_subset = dataset[\"_SoundingMeasurements_radiance_strong_co2\"].data[west_south_slice, east_north_slice]\n",
    "radiance_weak_CO2_subset = dataset[\"_SoundingMeasurements_radiance_weak_co2\"].data[west_south_slice, east_north_slice]"
   ]
  },
  {
   "cell_type": "code",
   "execution_count": 28,
   "metadata": {},
   "outputs": [
    {
     "data": {
      "text/plain": [
       "array([[[  8.44491011e+18,   8.32489237e+18,   8.18422690e+18, ...,\n",
       "           7.36158934e+18,   7.76452462e+18,   7.81480583e+18],\n",
       "        [  8.17203936e+18,   8.38323245e+18,   8.16922571e+18, ...,\n",
       "           7.12338839e+18,   7.66981378e+18,   7.92689390e+18],\n",
       "        [  8.14079729e+18,   8.26092993e+18,   8.28451005e+18, ...,\n",
       "           7.06443258e+18,   7.48516730e+18,   7.81499770e+18],\n",
       "        ..., \n",
       "        [  8.13603585e+18,   8.30087903e+18,   8.40814299e+18, ...,\n",
       "           7.15035281e+18,   7.28501880e+18,   7.45514953e+18],\n",
       "        [  8.12478180e+18,   8.52851587e+18,   8.40987417e+18, ...,\n",
       "           7.29269559e+18,   7.39354554e+18,   7.42334836e+18],\n",
       "        [  7.79693657e+18,   8.20313740e+18,   8.11397525e+18, ...,\n",
       "           7.14648363e+18,   7.10132229e+18,   7.17221715e+18]],\n",
       "\n",
       "       [[  8.23881875e+18,   8.08472659e+18,   7.94476866e+18, ...,\n",
       "           7.32419055e+18,   7.55421773e+18,   7.77553513e+18],\n",
       "        [  8.12526668e+18,   8.07387881e+18,   8.16938844e+18, ...,\n",
       "           7.24512962e+18,   7.62720716e+18,   7.75171915e+18],\n",
       "        [  8.00398835e+18,   8.13314578e+18,   8.33283579e+18, ...,\n",
       "           7.23196791e+18,   7.53042320e+18,   7.51797837e+18],\n",
       "        ..., \n",
       "        [  8.07196291e+18,   8.19831989e+18,   8.30633866e+18, ...,\n",
       "           7.29725526e+18,   7.25509669e+18,   7.51671998e+18],\n",
       "        [  7.70475681e+18,   8.13466806e+18,   8.07263966e+18, ...,\n",
       "           7.19410293e+18,   7.11482759e+18,   7.36714187e+18],\n",
       "        [  7.80165402e+18,   8.20778118e+18,   8.43600406e+18, ...,\n",
       "           7.25488009e+18,   7.11275721e+18,   7.38860269e+18]],\n",
       "\n",
       "       [[  8.19472283e+18,   8.23161585e+18,   8.32599408e+18, ...,\n",
       "           7.37141183e+18,   7.55814408e+18,   7.73382405e+18],\n",
       "        [  8.12694234e+18,   8.12001817e+18,   8.17152919e+18, ...,\n",
       "           7.33055562e+18,   7.50762098e+18,   7.66853890e+18],\n",
       "        [  7.94325848e+18,   8.11922212e+18,   8.27479202e+18, ...,\n",
       "           6.95113725e+18,   7.33198444e+18,   7.65285657e+18],\n",
       "        ..., \n",
       "        [  8.00880531e+18,   8.04420134e+18,   8.04929263e+18, ...,\n",
       "           6.97090702e+18,   6.92880397e+18,   7.26592028e+18],\n",
       "        [  8.00730833e+18,   8.08462928e+18,   8.30024406e+18, ...,\n",
       "           7.15286905e+18,   6.98359373e+18,   7.27611221e+18],\n",
       "        [  7.52732312e+18,   8.07704540e+18,   8.11486201e+18, ...,\n",
       "           7.15439187e+18,   7.01263458e+18,   7.18016662e+18]],\n",
       "\n",
       "       ..., \n",
       "       [[  2.09354227e+20,   2.09273004e+20,   2.09573988e+20, ...,\n",
       "           2.01945172e+20,   2.09476193e+20,   2.11838754e+20],\n",
       "        [  1.95411979e+20,   1.96503258e+20,   1.96983929e+20, ...,\n",
       "           1.75385158e+20,   1.83105964e+20,   1.86780602e+20],\n",
       "        [  2.53393854e+20,   2.55785195e+20,   2.56331996e+20, ...,\n",
       "           2.28031446e+20,   2.38572438e+20,   2.46444237e+20],\n",
       "        ..., \n",
       "        [  4.23859481e+20,   4.38043286e+20,   4.38429787e+20, ...,\n",
       "           3.93823251e+20,   3.98457560e+20,   4.15712645e+20],\n",
       "        [  4.20530371e+20,   4.38188176e+20,   4.42963152e+20, ...,\n",
       "           3.92474247e+20,   3.91594145e+20,   4.03825534e+20],\n",
       "        [  3.17270748e+20,   3.36908905e+20,   3.40340437e+20, ...,\n",
       "           2.91452033e+20,   2.87627035e+20,   2.91643032e+20]],\n",
       "\n",
       "       [[  2.54001594e+20,   2.55363687e+20,   2.55650510e+20, ...,\n",
       "           2.28753377e+20,   2.38226716e+20,   2.40907677e+20],\n",
       "        [  2.21446990e+20,   2.21676709e+20,   2.22388893e+20, ...,\n",
       "           2.02857696e+20,   2.12637544e+20,   2.16831574e+20],\n",
       "        [  1.28834545e+20,   1.29218292e+20,   1.29362891e+20, ...,\n",
       "           1.18485396e+20,   1.24615543e+20,   1.27883520e+20],\n",
       "        ..., \n",
       "        [  4.25578097e+20,   4.39038969e+20,   4.41804566e+20, ...,\n",
       "           4.11221852e+20,   4.15121477e+20,   4.32608884e+20],\n",
       "        [  4.36937793e+20,   4.56843528e+20,   4.61283901e+20, ...,\n",
       "           3.92105550e+20,   3.92571180e+20,   4.04502165e+20],\n",
       "        [  3.62361244e+20,   3.83834196e+20,   3.89199109e+20, ...,\n",
       "           3.60629575e+20,   3.55510847e+20,   3.60971954e+20]],\n",
       "\n",
       "       [[  1.59517481e+20,   1.59183828e+20,   1.59087458e+20, ...,\n",
       "           1.52403764e+20,   1.57671023e+20,   1.59172023e+20],\n",
       "        [  1.68892727e+20,   1.68620276e+20,   1.69624245e+20, ...,\n",
       "           1.55435619e+20,   1.63001016e+20,   1.65918099e+20],\n",
       "        [  1.57532748e+20,   1.58876756e+20,   1.58507496e+20, ...,\n",
       "           1.49546652e+20,   1.56774613e+20,   1.61270859e+20],\n",
       "        ..., \n",
       "        [  4.75468305e+20,   4.93429153e+20,   4.95787807e+20, ...,\n",
       "           4.31127939e+20,   4.35442704e+20,   4.53459671e+20],\n",
       "        [  4.38734976e+20,   4.58504160e+20,   4.62016264e+20, ...,\n",
       "           4.13678109e+20,   4.13161954e+20,   4.23866271e+20],\n",
       "        [  3.70982260e+20,   3.92850579e+20,   3.98815315e+20, ...,\n",
       "           3.70991584e+20,   3.66534568e+20,   3.71417913e+20]]], dtype=float32)"
      ]
     },
     "execution_count": 28,
     "metadata": {},
     "output_type": "execute_result"
    }
   ],
   "source": [
    "radiance_O2_subset"
   ]
  },
  {
   "cell_type": "markdown",
   "metadata": {},
   "source": [
    "We have now succesfully obtained a subset of data from a server without having to download a large file."
   ]
  },
  {
   "cell_type": "code",
   "execution_count": 43,
   "metadata": {
    "collapsed": true
   },
   "outputs": [],
   "source": [
    "from mpl_toolkits.basemap import Basemap\n",
    "lat_min = np.min(latitude_subset)\n",
    "lat_max = np.max(latitude_subset)\n",
    "lon_min = np.min(longitude_subset)\n",
    "lon_max = np.max(longitude_subset)\n",
    "%matplotlib inline"
   ]
  },
  {
   "cell_type": "code",
   "execution_count": 45,
   "metadata": {},
   "outputs": [
    {
     "data": {
      "text/plain": [
       "(16.95529, -157.86559)"
      ]
     },
     "execution_count": 45,
     "metadata": {},
     "output_type": "execute_result"
    }
   ],
   "source": [
    "lat_min, lon_min"
   ]
  },
  {
   "cell_type": "code",
   "execution_count": 46,
   "metadata": {},
   "outputs": [
    {
     "data": {
      "text/plain": [
       "(22.088903, -156.61108)"
      ]
     },
     "execution_count": 46,
     "metadata": {},
     "output_type": "execute_result"
    }
   ],
   "source": [
    "lat_max, lon_max"
   ]
  },
  {
   "cell_type": "code",
   "execution_count": 52,
   "metadata": {},
   "outputs": [
    {
     "name": "stderr",
     "output_type": "stream",
     "text": [
      "C:\\Users\\kgarimel\\AppData\\Local\\conda\\conda\\envs\\my_root\\lib\\site-packages\\mpl_toolkits\\basemap\\__init__.py:3360: MatplotlibDeprecationWarning: The ishold function was deprecated in version 2.0.\n",
      "  b = ax.ishold()\n",
      "C:\\Users\\kgarimel\\AppData\\Local\\conda\\conda\\envs\\my_root\\lib\\site-packages\\mpl_toolkits\\basemap\\__init__.py:3399: MatplotlibDeprecationWarning: axes.hold is deprecated.\n",
      "    See the API Changes document (http://matplotlib.org/api/api_changes.html)\n",
      "    for more details.\n",
      "  ax.hold(b)\n"
     ]
    },
    {
     "data": {
      "image/png": "[encoded data removed]",
      "text/plain": [
       "<matplotlib.figure.Figure at 0xcc48198>"
      ]
     },
     "metadata": {},
     "output_type": "display_data"
    }
   ],
   "source": [
    "m = Basemap(llcrnrlon=lon_max, llcrnrlat=lat_min, urcrnrlon=lon_min, urcrnrlat=lat_max, resolution='l', projection='aeqd', lon_0=0, lat_0=0)\n",
    "\n",
    "m.drawcoastlines()\n",
    "m.fillcontinents(color='coral', lake_color='aqua')\n",
    "pc = m.pcolor(longitude_subset, latitude_subset, radiance_weak_CO2_subset[:,:,0], latlon=True)\n",
    "cbar = m.colorbar(pc, location=\"bottom\", pad=\"5%\")"
   ]
  },
  {
   "cell_type": "markdown",
   "metadata": {},
   "source": [
    "## 4. Contstuct URL for a Spatial Subset"
   ]
  },
  {
   "cell_type": "markdown",
   "metadata": {},
   "source": [
    "Instead of reading in the spatial subset as shown above in Step 3 (Reading Spatial Subsets into Python), we can construct a URL based on the indices that match data in a 5x5 degree region around Mauna Loa."
   ]
  },
  {
   "cell_type": "code",
   "execution_count": 53,
   "metadata": {},
   "outputs": [
    {
     "data": {
      "text/plain": [
       "array([5992, 5992, 5992, ..., 6245, 6245, 6246], dtype=int64)"
      ]
     },
     "execution_count": 53,
     "metadata": {},
     "output_type": "execute_result"
    }
   ],
   "source": [
    "indices_above_west_south"
   ]
  },
  {
   "cell_type": "code",
   "execution_count": 54,
   "metadata": {},
   "outputs": [
    {
     "data": {
      "text/plain": [
       "array([0, 1, 2, ..., 6, 7, 7], dtype=int64)"
      ]
     },
     "execution_count": 54,
     "metadata": {},
     "output_type": "execute_result"
    }
   ],
   "source": [
    "indices_below_east_north"
   ]
  },
  {
   "cell_type": "code",
   "execution_count": 55,
   "metadata": {
    "scrolled": true
   },
   "outputs": [
    {
     "name": "stdout",
     "output_type": "stream",
     "text": [
      "5992 6246\n",
      "0 7\n"
     ]
    }
   ],
   "source": [
    "print(np.min(indices_above_west_south), np.max(indices_above_west_south))\n",
    "print(np.min(indices_below_east_north), np.max(indices_below_east_north))"
   ]
  },
  {
   "cell_type": "markdown",
   "metadata": {},
   "source": [
    "First, we will start with our original .h5 URL."
   ]
  },
  {
   "cell_type": "markdown",
   "metadata": {},
   "source": [
    "https://oco2.gesdisc.eosdis.nasa.gov/opendap/OCO2_L1B_Science.7r/2015/015/oco2_L1bScND_02879a_150115_B7000r_150616093751.h5"
   ]
  },
  {
   "cell_type": "markdown",
   "metadata": {},
   "source": [
    "Next, we will append \".nc4?\" and the subset of variables and indices we would like."
   ]
  },
  {
   "cell_type": "code",
   "execution_count": 56,
   "metadata": {
    "collapsed": true
   },
   "outputs": [],
   "source": [
    "url = \"https://oco2.gesdisc.eosdis.nasa.gov/opendap/OCO2_L1B_Science.7r/2015/015/oco2_L1bScND_02879a_150115_B7000r_150616093751.h5\""
   ]
  },
  {
   "cell_type": "code",
   "execution_count": 57,
   "metadata": {
    "collapsed": true
   },
   "outputs": [],
   "source": [
    "url = url + \".nc4?\""
   ]
  },
  {
   "cell_type": "code",
   "execution_count": 58,
   "metadata": {
    "collapsed": true
   },
   "outputs": [],
   "source": [
    "url = url + \"__SoundingGeometry_sounding_latitude[5992:6246][0:7],\""
   ]
  },
  {
   "cell_type": "code",
   "execution_count": 59,
   "metadata": {
    "collapsed": true
   },
   "outputs": [],
   "source": [
    "url = url + \"__SoundingGeometry_sounding_longitude[5992:6246][0:7],\""
   ]
  },
  {
   "cell_type": "code",
   "execution_count": 60,
   "metadata": {
    "collapsed": true
   },
   "outputs": [],
   "source": [
    "url = url + \"__SoundingGeometry_sounding_time_tai93[5992:6246][0:7],\""
   ]
  },
  {
   "cell_type": "code",
   "execution_count": 61,
   "metadata": {
    "collapsed": true
   },
   "outputs": [],
   "source": [
    "url = url + \"__SoundingMeasurements_radiance_o2[5992:6246][0:7],\""
   ]
  },
  {
   "cell_type": "code",
   "execution_count": 62,
   "metadata": {
    "collapsed": true
   },
   "outputs": [],
   "source": [
    "url = url + \"__SoundingMeasurements_radiance_strong_co2[5992:6246][0:7],\""
   ]
  },
  {
   "cell_type": "code",
   "execution_count": 63,
   "metadata": {
    "collapsed": true
   },
   "outputs": [],
   "source": [
    "url = url + \"__SoundingMeasurements_radiance_weak_co2[5992:6246][0:7]\""
   ]
  },
  {
   "cell_type": "code",
   "execution_count": 64,
   "metadata": {},
   "outputs": [
    {
     "name": "stdout",
     "output_type": "stream",
     "text": [
      "https://oco2.gesdisc.eosdis.nasa.gov/opendap/OCO2_L1B_Science.7r/2015/015/oco2_L1bScND_02879a_150115_B7000r_150616093751.h5.nc4?__SoundingGeometry_sounding_latitude[5992:6246][0:7],__SoundingGeometry_sounding_longitude[5992:6246][0:7],__SoundingGeometry_sounding_time_tai93[5992:6246][0:7],__SoundingMeasurements_radiance_o2[5992:6246][0:7],__SoundingMeasurements_radiance_strong_co2[5992:6246][0:7],__SoundingMeasurements_radiance_weak_co2[5992:6246][0:7]\n"
     ]
    }
   ],
   "source": [
    "print(url)"
   ]
  },
  {
   "cell_type": "markdown",
   "metadata": {},
   "source": [
    "You can use *wget* to obtain the data from the above URL as shown in Step 2 (Obtaining the Geolocation Data)."
   ]
  }
 ],
 "metadata": {
  "kernelspec": {
   "display_name": "Python 3",
   "language": "python",
   "name": "python3"
  },
  "language_info": {
   "codemirror_mode": {
    "name": "ipython",
    "version": 3
   },
   "file_extension": ".py",
   "mimetype": "text/x-python",
   "name": "python",
   "nbconvert_exporter": "python",
   "pygments_lexer": "ipython3",
   "version": "3.6.1"
  }
 },
 "nbformat": 4,
 "nbformat_minor": 2
}
