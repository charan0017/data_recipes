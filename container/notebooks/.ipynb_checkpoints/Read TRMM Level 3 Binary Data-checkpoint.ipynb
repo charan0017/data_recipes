{
 "cells": [
  {
   "cell_type": "markdown",
   "metadata": {},
   "source": [
    "# Downloading Data\n",
    "The data will be using is from the dataset found [here](ftp://trmmopen.gsfc.nasa.gov/pub/merged/3B42RT/). We will be looking at the data from May 31, 2009. This can be found by navigating to the 2009 folder, then to the 05 folder. Then, look for the file containing `2009053100`. Download this binary file to the same location as this notebook. (I stored it in a folder called `TRMM_data`, but we will change this for the actual publishing of this notebook.)"
   ]
  },
  {
   "cell_type": "code",
   "execution_count": 249,
   "metadata": {},
   "outputs": [],
   "source": [
    "import numpy as np\n",
    "# binFile = \"TRMM_data/3B42RT.2009010100.7R2.bin\"\n",
    "# outFile = \"TRMM_data/3B42RT.2009010100.7R2.txt\"\n",
    "\n",
    "binFile = \"TRMM_data/3B42RT.2009053100.7R2.bin\"\n",
    "outFile = \"TRMM_data/3B42RT.2009053100.7R2.txt\"\n",
    "\n",
    "from struct import unpack\n",
    " \n",
    "f = open(binFile, \"rb\")\n",
    "fOut = open(outFile, 'w')\n",
    "\n",
    "NumbytesFile = 576000\n",
    "NumElementxRecord = -1440\n",
    "\n",
    "headerLengthBytes = 2880\n",
    " \n",
    "for PositionByte in range(NumbytesFile, 0, NumElementxRecord):\n",
    " \n",
    "        Record = ''\n",
    "        for c in range (PositionByte - 720, PositionByte, 1):\n",
    "                f.seek(c * 4)\n",
    "                DataElement = unpack('>f', f.read(4))\n",
    "                Record = Record  + str('{:0.2e} '.format(DataElement[0]))\n",
    " \n",
    "        for c in range (PositionByte - 1440, PositionByte - 720, 1):\n",
    "                f.seek(c * 4)\n",
    "                DataElement = unpack('>f', f.read(4))\n",
    "                Record = Record  + str('{:0.2e} '.format(DataElement[0]))\n",
    " \n",
    "        fOut.write(Record[:-1] + '\\n')\n",
    "\n",
    "f.close()\n",
    "fOut.close()"
   ]
  },
  {
   "cell_type": "markdown",
   "metadata": {},
   "source": [
    "When you run the above script, the text file `3B42_daily.2009.05.31.7.txt` contains the ASCII version of our binary file."
   ]
  },
  {
   "cell_type": "code",
   "execution_count": 223,
   "metadata": {},
   "outputs": [],
   "source": [
    "binFile = \"TRMM_data/3B42RT.2009010100.7R2.bin\"\n",
    "outFile = \"TRMM_data/3B42RT.2009010100.7R2.txt\"\n",
    "\n",
    "from struct import unpack\n",
    " \n",
    "BinaryFile = '3B42_daily.2009.05.31.7.bin'\n",
    "FileASC = '3B42_daily.2009.05.31.7.txt'\n",
    " \n",
    "f = open(binFile, \"rb\")\n",
    "fOut = open(outFile, 'w')\n",
    " \n",
    "NumbytesFile = 576000\n",
    "NumElementxRecord = -1440\n",
    "\n",
    "# pulled from file\n",
    "headerLengthBytes = 2880\n",
    "\n",
    "fileLengthBytes = os.path.getsize(\"TRMM_data/3B42RT.2009010100.7R2.bin\")\n",
    "\n",
    "dataLengthBytes = fileLengthBytes - headerLengthBytes\n",
    "\n",
    "header = f.read(headerLengthBytes)\n",
    "\n",
    "record = \"\"\n",
    "\n",
    "for i in range(dataLengthBytes // 4):\n",
    "    chunk = f.read(4)\n",
    "#     record += str(round(unpack(\">f\", chunk)[0],-2)) + ' '\n",
    "    record += '{:0.2e} '.format(unpack(\">f\", chunk)[0])"
   ]
  }
 ],
 "metadata": {
  "kernelspec": {
   "display_name": "Python 3",
   "language": "python",
   "name": "python3"
  },
  "language_info": {
   "codemirror_mode": {
    "name": "ipython",
    "version": 3
   },
   "file_extension": ".py",
   "mimetype": "text/x-python",
   "name": "python",
   "nbconvert_exporter": "python",
   "pygments_lexer": "ipython3",
   "version": "3.6.1"
  }
 },
 "nbformat": 4,
 "nbformat_minor": 2
}
