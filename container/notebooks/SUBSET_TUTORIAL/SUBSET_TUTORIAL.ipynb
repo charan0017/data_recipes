{
 "cells": [
  {
   "cell_type": "markdown",
   "metadata": {},
   "source": [
    "# Introduction\n",
    "\n",
    "This tutorial will walk you through how to download a spatial and variable subset of data.  If you are only interested in a small region of a certain dataset, it is not necessary to downlaod the entire dataset to your local machine. For example, downloading one full orbit of Orbiting Carbon Observatory 2 (OCO-2) Level 1B data from the GES DISC can take several minutes, while downloading a granule of the data takes a matter of seconds. You can learn more about the OCO-2 mission [here](https://oco.jpl.nasa.gov/science/).\n",
    "\n",
    "# Import Dependencies\n",
    "Let's import all the libraries we need. This needs to be done before any of the other cells can be run. These libraries were installed in the docker container you are using, so we will not need to worry about installing anything. Simply running the following cell takes care of all of the dependencies."
   ]
  },
  {
   "cell_type": "code",
   "execution_count": 31,
   "metadata": {
    "collapsed": true
   },
   "outputs": [],
   "source": [
    "from mpl_toolkits.basemap import Basemap\n",
    "from pydap.cas.urs import setup_session\n",
    "from pydap.client import open_url\n",
    "import numpy as np\n",
    "import netCDF4\n",
    "import getpass"
   ]
  },
  {
   "cell_type": "markdown",
   "metadata": {},
   "source": [
    "## Procedure\n",
    "\n",
    "We will identify granules in data by looking at the latitude and longitude cooridantes for regions of interest.  In this tutorial, we are interested in extracting a subset of OCO-2 Level 1B radiances within a 5x5 degree box centered at the Mauna Loa volcano in Hawaii.\n",
    "\n",
    "## Finding the Data Set\n",
    "\n",
    "We can find the appropriate dataset by using DAAC search engines such as OpenSearch or by navigating OPenNDAP directories of datasets. Let's go through these two methods.\n",
    "\n",
    "### Navigating OPeNDAP Directories\n",
    "Open-source Project for a Network Data Access Protocol, or OPeNDAP, is a protocol for accessing Earth science data.  Let's start by going to an OPeNDAP server.\n",
    "\n",
    "1. Go to the following URL: https://oco2.gesdisc.eosdis.nasa.gov/opendap/hyrax/\n",
    "\n",
    "2. Open the directory: `OCO2_L1B_Science.7r/`\n",
    "\n",
    "3. Open the directory: `2015/`\n",
    "\n",
    "4. Open the directory: `015/`\n",
    "\n",
    "5. Click on the last file: `oco2_L1bScND_02879a_150115_B7000r_150616093751.h5`\n",
    "\n",
    "You are now on an *OpenNDAP Server Dataset Access Form*. From here, you can see the global attriubutes and the variables for this dataset.  Feel free to skim this page to get an idea of what sort of data is contained within OCO-2 Level 1B data. If you wish (*not part of this tutorial*), you can download the entire data set as a NetCDF-4 File (in the *Action* row)."
   ]
  },
  {
   "cell_type": "markdown",
   "metadata": {},
   "source": [
    "### Using OpenSearch to Obtain Subset of Data"
   ]
  },
  {
   "cell_type": "markdown",
   "metadata": {},
   "source": [
    "Instead of using an OPeNDAP Server Dataset Access Form as shown above, let's use a DAAC search engine to find this same data set. Let's suppose we want granules from 09/01/2014 to 08/31/2015 that have observations near a 5x5 degree of Mauna Loa. A quick search on Google Maps shows that Mauna Loa is located at [-155.590951, 19.472847](https://www.google.com/maps/place/Mauna+Loa/@19.4721389,-155.5943953,17z/data=!3m1!4b1!4m5!3m4!1s0x7953e45a9a2e3483:0x21188532375f4e6b!8m2!3d19.4721389!4d-155.5922066) (longitude, latitude).  We can use OpenSearch to find granules given the spatial and temporal criteria.  We will use the *wget* command to download a list of URLs which we can access data granules from."
   ]
  },
  {
   "cell_type": "markdown",
   "metadata": {
    "collapsed": true
   },
   "source": [
    "First, let's make sure we are in the right directory.  We want to create this text file in the same directory as this Jupyter Notebook. In your terminal, type in the following command:\n",
    "\n",
    "> `cd /home/condauser/tutorials/notebooks/SUBSET_TUTORIAL`\n",
    "<br>\n",
    "\n",
    "Now, let's list the contents of the directory. Run the following command:\n",
    "\n",
    ">`ls`\n",
    "<br>\n",
    "\n",
    "Currently, there should be no existing .txt file.  Now, we will use the `wget`, `grep`, and `egrep` commands to obtain these URLs from the OpenSearch. In your terminal, run the follwoing command:\n",
    "<br>\n",
    "\n",
    ">`wget -q \"http://mirador.gsfc.nasa.gov/cgi-bin/mirador/granlist.pl?searchType=Nominal&format=atom&startTime=2014-09-01T00:00:00Z&endTime=2015-08-31T00:00:00Z&osLocation=-158.09,16.97,-153.09,22.07&maxgranules=10000&dataSet=OCO2_L1B_Science.7r\" -O - | grep 'OPeNDAP HTML' | egrep -o 'href=\\\".*h5.html\\\"' | egrep -o 'http.*html' > URLs.txt`\n"
   ]
  },
  {
   "cell_type": "markdown",
   "metadata": {},
   "source": [
    "Notice that the *wget* URL contains all of the search criteria we desired:\n",
    "\n",
    "* startTime=2014-09-01\n",
    "* endTime=2015-08-31\n",
    "* Location=-158.09,16.97,-153.09,22.07\n",
    "* dataSet=OCO2_L1B_Science.7r"
   ]
  },
  {
   "cell_type": "markdown",
   "metadata": {},
   "source": [
    "The command also contains GNU three programs that allow us to obtain and parse the correct information.\n",
    "\n",
    "* *wget*: Retrieve a file from the world wide web\n",
    "* *grep*: Pattern matching command, in this case for any line containing 'OPeNDAP HTML'\n",
    "* *egrep*: Extention of grep, in this case pattern matching for any line starting with 'http' and ending with 'html'\n",
    "\n",
    "Notice that the output of *wget* is piped by use of `|` to grep/egrep.  The output of grep/egrep is redirected to URLs.txt by use of `>`."
   ]
  },
  {
   "cell_type": "markdown",
   "metadata": {},
   "source": [
    "You now have a file (URLs.txt) containing all of the URLs that contain the right granules of the data set. You can see this by running the following command in your terminal:\n",
    ">`ls`"
   ]
  },
  {
   "cell_type": "markdown",
   "metadata": {},
   "source": [
    "## Hierarchical Data Format\n",
    "Let's print out all the URLs this command captured. We will leave out the last 5 characters (.html)."
   ]
  },
  {
   "cell_type": "code",
   "execution_count": 2,
   "metadata": {},
   "outputs": [
    {
     "name": "stdout",
     "output_type": "stream",
     "text": [
      "https://oco2.gesdisc.eosdis.nasa.gov/opendap/OCO2_L1B_Science.7r/2014/252/oco2_L1bScGL_01015a_140909_B7000r_150603124338.h5\n",
      "https://oco2.gesdisc.eosdis.nasa.gov/opendap/OCO2_L1B_Science.7r/2014/254/oco2_L1bScGL_01044a_140911_B7000r_150603233021.h5\n",
      "https://oco2.gesdisc.eosdis.nasa.gov/opendap/OCO2_L1B_Science.7r/2014/256/oco2_L1bScGL_01073a_140913_B7000r_150604051650.h5\n",
      "https://oco2.gesdisc.eosdis.nasa.gov/opendap/OCO2_L1B_Science.7r/2014/261/oco2_L1bScGL_01146a_140918_B7000r_150605173100.h5\n",
      "https://oco2.gesdisc.eosdis.nasa.gov/opendap/OCO2_L1B_Science.7r/2014/263/oco2_L1bScGL_01175a_140920_B7000r_150606035458.h5\n",
      "https://oco2.gesdisc.eosdis.nasa.gov/opendap/OCO2_L1B_Science.7r/2014/265/oco2_L1bScGL_01204a_140922_B7000r_150606061714.h5\n",
      "https://oco2.gesdisc.eosdis.nasa.gov/opendap/OCO2_L1B_Science.7r/2014/268/oco2_L1bScND_01248a_140925_B7000r_150606134456.h5\n",
      "https://oco2.gesdisc.eosdis.nasa.gov/opendap/OCO2_L1B_Science.7r/2014/270/oco2_L1bScND_01277a_140927_B7000r_150606204617.h5\n",
      "https://oco2.gesdisc.eosdis.nasa.gov/opendap/OCO2_L1B_Science.7r/2014/277/oco2_L1bScND_01379a_141004_B7000r_150608104230.h5\n",
      "https://oco2.gesdisc.eosdis.nasa.gov/opendap/OCO2_L1B_Science.7r/2014/279/oco2_L1bScND_01408a_141006_B7000r_150608100517.h5\n",
      "https://oco2.gesdisc.eosdis.nasa.gov/opendap/OCO2_L1B_Science.7r/2014/284/oco2_L1bScND_01481a_141011_B7000r_150608213220.h5\n",
      "https://oco2.gesdisc.eosdis.nasa.gov/opendap/OCO2_L1B_Science.7r/2014/286/oco2_L1bScND_01510a_141013_B7000r_150609055035.h5\n",
      "https://oco2.gesdisc.eosdis.nasa.gov/opendap/OCO2_L1B_Science.7r/2014/293/oco2_L1bScND_01612a_141020_B7000r_150609173657.h5\n",
      "https://oco2.gesdisc.eosdis.nasa.gov/opendap/OCO2_L1B_Science.7r/2014/295/oco2_L1bScND_01641a_141022_B7000r_150609162259.h5\n",
      "https://oco2.gesdisc.eosdis.nasa.gov/opendap/OCO2_L1B_Science.7r/2014/302/oco2_L1bScGL_01743a_141029_B7000r_150609194733.h5\n",
      "https://oco2.gesdisc.eosdis.nasa.gov/opendap/OCO2_L1B_Science.7r/2014/304/oco2_L1bScGL_01772a_141031_B7000r_150609202744.h5\n",
      "https://oco2.gesdisc.eosdis.nasa.gov/opendap/OCO2_L1B_Science.7r/2014/309/oco2_L1bScGL_01845a_141105_B7000r_150610091625.h5\n",
      "https://oco2.gesdisc.eosdis.nasa.gov/opendap/OCO2_L1B_Science.7r/2014/311/oco2_L1bScGL_01874a_141107_B7000r_150610103300.h5\n",
      "https://oco2.gesdisc.eosdis.nasa.gov/opendap/OCO2_L1B_Science.7r/2014/313/oco2_L1bScGL_01903a_141109_B7000r_150610114659.h5\n",
      "https://oco2.gesdisc.eosdis.nasa.gov/opendap/OCO2_L1B_Science.7r/2014/316/oco2_L1bScND_01947a_141112_B7000r_150610124939.h5\n",
      "https://oco2.gesdisc.eosdis.nasa.gov/opendap/OCO2_L1B_Science.7r/2014/318/oco2_L1bScND_01976a_141114_B7000r_150612080222.h5\n",
      "https://oco2.gesdisc.eosdis.nasa.gov/opendap/OCO2_L1B_Science.7r/2014/323/oco2_L1bScND_02049a_141119_B7000r_150613024204.h5\n",
      "https://oco2.gesdisc.eosdis.nasa.gov/opendap/OCO2_L1B_Science.7r/2014/327/oco2_L1bScND_02107a_141123_B7000r_150613032857.h5\n",
      "https://oco2.gesdisc.eosdis.nasa.gov/opendap/OCO2_L1B_Science.7r/2014/334/oco2_L1bScGL_02209a_141130_B7000r_150613210422.h5\n",
      "https://oco2.gesdisc.eosdis.nasa.gov/opendap/OCO2_L1B_Science.7r/2014/336/oco2_L1bScGL_02238a_141202_B7000r_150609005049.h5\n",
      "https://oco2.gesdisc.eosdis.nasa.gov/opendap/OCO2_L1B_Science.7r/2014/338/oco2_L1bScGL_02267a_141204_B7000r_150609045138.h5\n",
      "https://oco2.gesdisc.eosdis.nasa.gov/opendap/OCO2_L1B_Science.7r/2014/341/oco2_L1bScGL_02311a_141207_B7000r_150613221740.h5\n",
      "https://oco2.gesdisc.eosdis.nasa.gov/opendap/OCO2_L1B_Science.7r/2014/343/oco2_L1bScGL_02340a_141209_B7000r_150613231953.h5\n",
      "https://oco2.gesdisc.eosdis.nasa.gov/opendap/OCO2_L1B_Science.7r/2014/345/oco2_L1bScGL_02369a_141211_B7000r_150614042234.h5\n",
      "https://oco2.gesdisc.eosdis.nasa.gov/opendap/OCO2_L1B_Science.7r/2014/350/oco2_L1bScND_02442a_141216_B7000r_150614164401.h5\n",
      "https://oco2.gesdisc.eosdis.nasa.gov/opendap/OCO2_L1B_Science.7r/2014/352/oco2_L1bScND_02471a_141218_B7000r_150614182249.h5\n",
      "https://oco2.gesdisc.eosdis.nasa.gov/opendap/OCO2_L1B_Science.7r/2014/355/oco2_L1bScND_02515a_141221_B7000r_150614190013.h5\n",
      "https://oco2.gesdisc.eosdis.nasa.gov/opendap/OCO2_L1B_Science.7r/2014/357/oco2_L1bScND_02544a_141223_B7000r_150614202116.h5\n",
      "https://oco2.gesdisc.eosdis.nasa.gov/opendap/OCO2_L1B_Science.7r/2014/359/oco2_L1bScND_02573a_141225_B7000r_150614211218.h5\n",
      "https://oco2.gesdisc.eosdis.nasa.gov/opendap/OCO2_L1B_Science.7r/2015/001/oco2_L1bScGL_02675a_150101_B7000r_150615234856.h5\n",
      "https://oco2.gesdisc.eosdis.nasa.gov/opendap/OCO2_L1B_Science.7r/2015/003/oco2_L1bScGL_02704a_150103_B7000r_150616002247.h5\n",
      "https://oco2.gesdisc.eosdis.nasa.gov/opendap/OCO2_L1B_Science.7r/2015/005/oco2_L1bScGL_02733a_150105_B7000r_150616013045.h5\n",
      "https://oco2.gesdisc.eosdis.nasa.gov/opendap/OCO2_L1B_Science.7r/2015/010/oco2_L1bScGL_02806a_150110_B7000r_150616024242.h5\n",
      "https://oco2.gesdisc.eosdis.nasa.gov/opendap/OCO2_L1B_Science.7r/2015/015/oco2_L1bScND_02879a_150115_B7000r_150616093751.h5\n",
      "https://oco2.gesdisc.eosdis.nasa.gov/opendap/OCO2_L1B_Science.7r/2015/026/oco2_L1bScND_03039a_150126_B7000r_150616193415.h5\n",
      "https://oco2.gesdisc.eosdis.nasa.gov/opendap/OCO2_L1B_Science.7r/2015/031/oco2_L1bScGL_03112a_150131_B7000r_150616224913.h5\n",
      "https://oco2.gesdisc.eosdis.nasa.gov/opendap/OCO2_L1B_Science.7r/2015/033/oco2_L1bScGL_03141a_150202_B7000r_150617004208.h5\n",
      "https://oco2.gesdisc.eosdis.nasa.gov/opendap/OCO2_L1B_Science.7r/2015/035/oco2_L1bScGL_03170a_150204_B7000r_150617020749.h5\n",
      "https://oco2.gesdisc.eosdis.nasa.gov/opendap/OCO2_L1B_Science.7r/2015/040/oco2_L1bScGL_03243a_150209_B7000r_150623095339.h5\n",
      "https://oco2.gesdisc.eosdis.nasa.gov/opendap/OCO2_L1B_Science.7r/2015/042/oco2_L1bScGL_03272a_150211_B7000r_150623133713.h5\n",
      "https://oco2.gesdisc.eosdis.nasa.gov/opendap/OCO2_L1B_Science.7r/2015/044/oco2_L1bScGL_03301a_150213_B7000r_150623214438.h5\n",
      "https://oco2.gesdisc.eosdis.nasa.gov/opendap/OCO2_L1B_Science.7r/2015/047/oco2_L1bScND_03345a_150216_B7000r_150721185355.h5\n",
      "https://oco2.gesdisc.eosdis.nasa.gov/opendap/OCO2_L1B_Science.7r/2015/056/oco2_L1bScND_03476a_150225_B7000r_150625023330.h5\n",
      "https://oco2.gesdisc.eosdis.nasa.gov/opendap/OCO2_L1B_Science.7r/2015/058/oco2_L1bScND_03505a_150227_B7000r_150625025511.h5\n",
      "https://oco2.gesdisc.eosdis.nasa.gov/opendap/OCO2_L1B_Science.7r/2015/063/oco2_L1bScGL_03578a_150304_B7000r_150625150602.h5\n",
      "https://oco2.gesdisc.eosdis.nasa.gov/opendap/OCO2_L1B_Science.7r/2015/065/oco2_L1bScGL_03607a_150306_B7000r_150625223209.h5\n",
      "https://oco2.gesdisc.eosdis.nasa.gov/opendap/OCO2_L1B_Science.7r/2015/067/oco2_L1bScGL_03636a_150308_B7000r_150626050717.h5\n",
      "https://oco2.gesdisc.eosdis.nasa.gov/opendap/OCO2_L1B_Science.7r/2015/072/oco2_L1bScGL_03709a_150313_B7000r_150720235110.h5\n",
      "https://oco2.gesdisc.eosdis.nasa.gov/opendap/OCO2_L1B_Science.7r/2015/079/oco2_L1bScND_03811a_150320_B7000r_150627092530.h5\n",
      "https://oco2.gesdisc.eosdis.nasa.gov/opendap/OCO2_L1B_Science.7r/2015/081/oco2_L1bScND_03840a_150322_B7000r_150627163830.h5\n",
      "https://oco2.gesdisc.eosdis.nasa.gov/opendap/OCO2_L1B_Science.7r/2015/083/oco2_L1bScND_03869a_150324_B7000r_150627125924.h5\n",
      "https://oco2.gesdisc.eosdis.nasa.gov/opendap/OCO2_L1B_Science.7r/2015/088/oco2_L1bScND_03942a_150329_B7000r_150609164757.h5\n",
      "https://oco2.gesdisc.eosdis.nasa.gov/opendap/OCO2_L1B_Science.7r/2015/090/oco2_L1bScND_03971a_150331_B7000r_150609134213.h5\n",
      "https://oco2.gesdisc.eosdis.nasa.gov/opendap/OCO2_L1B_Science.7r/2015/095/oco2_L1bScGL_04044a_150405_B7000r_150609061253.h5\n",
      "https://oco2.gesdisc.eosdis.nasa.gov/opendap/OCO2_L1B_Science.7r/2015/097/oco2_L1bScGL_04073a_150407_B7000r_150607040907.h5\n",
      "https://oco2.gesdisc.eosdis.nasa.gov/opendap/OCO2_L1B_Science.7r/2015/099/oco2_L1bScGL_04102a_150409_B7000r_150609000120.h5\n",
      "https://oco2.gesdisc.eosdis.nasa.gov/opendap/OCO2_L1B_Science.7r/2015/104/oco2_L1bScGL_04175a_150414_B7000r_150608171925.h5\n",
      "https://oco2.gesdisc.eosdis.nasa.gov/opendap/OCO2_L1B_Science.7r/2015/129/oco2_L1bScND_04539a_150509_B7000r_150607141832.h5\n",
      "https://oco2.gesdisc.eosdis.nasa.gov/opendap/OCO2_L1B_Science.7r/2015/134/oco2_L1bScND_04612a_150514_B7000r_150601234133.h5\n",
      "https://oco2.gesdisc.eosdis.nasa.gov/opendap/OCO2_L1B_Science.7r/2015/136/oco2_L1bScND_04641a_150516_B7000r_150601215055.h5\n",
      "https://oco2.gesdisc.eosdis.nasa.gov/opendap/OCO2_L1B_Science.7r/2015/138/oco2_L1bScND_04670a_150518_B7000r_150601183529.h5\n",
      "https://oco2.gesdisc.eosdis.nasa.gov/opendap/OCO2_L1B_Science.7r/2015/143/oco2_L1bScGL_04743a_150523_B7000r_150604210922.h5\n",
      "https://oco2.gesdisc.eosdis.nasa.gov/opendap/OCO2_L1B_Science.7r/2015/145/oco2_L1bScGL_04772a_150525_B7000r_150605065125.h5\n",
      "https://oco2.gesdisc.eosdis.nasa.gov/opendap/OCO2_L1B_Science.7r/2015/147/oco2_L1bScGL_04801a_150527_B7000r_150605112848.h5\n",
      "https://oco2.gesdisc.eosdis.nasa.gov/opendap/OCO2_L1B_Science.7r/2015/152/oco2_L1bScGL_04874a_150601_B7000r_150925045528.h5\n",
      "https://oco2.gesdisc.eosdis.nasa.gov/opendap/OCO2_L1B_Science.7r/2015/154/oco2_L1bScGL_04903a_150603_B7000r_150925092553.h5\n",
      "https://oco2.gesdisc.eosdis.nasa.gov/opendap/OCO2_L1B_Science.7r/2015/159/oco2_L1bScND_04976a_150608_B7000r_150925193757.h5\n",
      "https://oco2.gesdisc.eosdis.nasa.gov/opendap/OCO2_L1B_Science.7r/2015/161/oco2_L1bScND_05005a_150610_B7000r_150925235812.h5\n",
      "https://oco2.gesdisc.eosdis.nasa.gov/opendap/OCO2_L1B_Science.7r/2015/166/oco2_L1bScND_05078a_150615_B7000r_150926093321.h5\n",
      "https://oco2.gesdisc.eosdis.nasa.gov/opendap/OCO2_L1B_Science.7r/2015/168/oco2_L1bScND_05107a_150617_B7000r_150926130116.h5\n",
      "https://oco2.gesdisc.eosdis.nasa.gov/opendap/OCO2_L1B_Science.7r/2015/170/oco2_L1bScND_05136a_150619_B7000r_150926153108.h5\n",
      "https://oco2.gesdisc.eosdis.nasa.gov/opendap/OCO2_L1B_Science.7r/2015/175/oco2_L1bScGL_05209a_150624_B7000r_150927013419.h5\n",
      "https://oco2.gesdisc.eosdis.nasa.gov/opendap/OCO2_L1B_Science.7r/2015/177/oco2_L1bScGL_05238a_150626_B7000r_150927061654.h5\n",
      "https://oco2.gesdisc.eosdis.nasa.gov/opendap/OCO2_L1B_Science.7r/2015/179/oco2_L1bScGL_05267a_150628_B7000r_150927111546.h5\n",
      "https://oco2.gesdisc.eosdis.nasa.gov/opendap/OCO2_L1B_Science.7r/2015/184/oco2_L1bScND_05340a_150703_B7000r_150927205020.h5\n",
      "https://oco2.gesdisc.eosdis.nasa.gov/opendap/OCO2_L1B_Science.7r/2015/186/oco2_L1bScGL_05369a_150705_B7000r_150928003216.h5\n",
      "https://oco2.gesdisc.eosdis.nasa.gov/opendap/OCO2_L1B_Science.7r/2015/191/oco2_L1bScND_05442a_150710_B7000r_150928112741.h5\n",
      "https://oco2.gesdisc.eosdis.nasa.gov/opendap/OCO2_L1B_Science.7r/2015/193/oco2_L1bScGL_05471a_150712_B7000r_150928150432.h5\n",
      "https://oco2.gesdisc.eosdis.nasa.gov/opendap/OCO2_L1B_Science.7r/2015/198/oco2_L1bScND_05544a_150717_B7000r_150929044529.h5\n",
      "https://oco2.gesdisc.eosdis.nasa.gov/opendap/OCO2_L1B_Science.7r/2015/200/oco2_L1bScGL_05573a_150719_B7000r_150929071839.h5\n",
      "https://oco2.gesdisc.eosdis.nasa.gov/opendap/OCO2_L1B_Science.7r/2015/202/oco2_L1bScND_05602a_150721_B7000r_150929100311.h5\n",
      "https://oco2.gesdisc.eosdis.nasa.gov/opendap/OCO2_L1B_Science.7r/2015/207/oco2_L1bScGL_05675a_150726_B7000r_150929185943.h5\n",
      "https://oco2.gesdisc.eosdis.nasa.gov/opendap/OCO2_L1B_Science.7r/2015/209/oco2_L1bScND_05704a_150728_B7000r_150929212147.h5\n",
      "https://oco2.gesdisc.eosdis.nasa.gov/opendap/OCO2_L1B_Science.7r/2015/211/oco2_L1bScGL_05733a_150730_B7000r_150929225806.h5\n",
      "https://oco2.gesdisc.eosdis.nasa.gov/opendap/OCO2_L1B_Science.7r/2015/216/oco2_L1bScND_05806a_150804_B7000r_150930005711.h5\n",
      "https://oco2.gesdisc.eosdis.nasa.gov/opendap/OCO2_L1B_Science.7r/2015/218/oco2_L1bScGL_05835a_150806_B7000r_150930063648.h5\n",
      "https://oco2.gesdisc.eosdis.nasa.gov/opendap/OCO2_L1B_Science.7r/2015/223/oco2_L1bScND_05908a_150811_B7000r_150930075159.h5\n",
      "https://oco2.gesdisc.eosdis.nasa.gov/opendap/OCO2_L1B_Science.7r/2015/225/oco2_L1bScGL_05937a_150813_B7000r_150930082723.h5\n",
      "https://oco2.gesdisc.eosdis.nasa.gov/opendap/OCO2_L1B_Science.7r/2015/227/oco2_L1bScND_05966a_150815_B7000r_150930085815.h5\n",
      "https://oco2.gesdisc.eosdis.nasa.gov/opendap/OCO2_L1B_Science.7r/2015/230/oco2_L1bScND_06010a_150818_B7000r_150930161550.h5\n",
      "https://oco2.gesdisc.eosdis.nasa.gov/opendap/OCO2_L1B_Science.7r/2015/232/oco2_L1bScGL_06039a_150820_B7000r_150930164714.h5\n",
      "https://oco2.gesdisc.eosdis.nasa.gov/opendap/OCO2_L1B_Science.7r/2015/234/oco2_L1bScND_06068a_150822_B7000r_150930172454.h5\n",
      "https://oco2.gesdisc.eosdis.nasa.gov/opendap/OCO2_L1B_Science.7r/2015/239/oco2_L1bScGL_06141a_150827_B7000r_150930182730.h5\n",
      "https://oco2.gesdisc.eosdis.nasa.gov/opendap/OCO2_L1B_Science.7r/2015/241/oco2_L1bScND_06170a_150829_B7000r_150930190735.h5\n"
     ]
    }
   ],
   "source": [
    "for line in open(\"URLs.txt\", \"r\").readlines():\n",
    "    print(line[:-6])"
   ]
  },
  {
   "cell_type": "markdown",
   "metadata": {},
   "source": [
    "Each of these URLs is a .h5 file (Hierarchical Data Format 5) that contains the pertinent granules of data for the OCO-2 Level1B dataset."
   ]
  },
  {
   "cell_type": "markdown",
   "metadata": {},
   "source": [
    "### Using OPeNDAP URL Suffixes"
   ]
  },
  {
   "cell_type": "markdown",
   "metadata": {},
   "source": [
    "Adding \".html\" to any of these URLs will take you to the OPeNDAP Data Access Form for that granule. You can download the data from here (not part of this tutorial)."
   ]
  },
  {
   "cell_type": "markdown",
   "metadata": {},
   "source": [
    "Adding \".ddx\", \".ddx\", \".das\", \".info\", and \".rdf\" returns the metadata for that granule. \".info\" is the most useful in a web browser."
   ]
  },
  {
   "cell_type": "markdown",
   "metadata": {},
   "source": [
    "Adding \".ascii\", \".nc\", \".nc4\", \".dods\" will download the files (to your machine) in various formats such as netCDF-4."
   ]
  },
  {
   "cell_type": "markdown",
   "metadata": {},
   "source": [
    "Feel free to add \".html\" or \".info\" to get a feel for the suffixes."
   ]
  },
  {
   "cell_type": "markdown",
   "metadata": {},
   "source": [
    "## Reading Spatial Subsets into Python\n",
    "Now that we've gone through the exercise of locating datasets, let's import data directly from a server into the Jupyter Notebook.  We are giong to make use of the *pydap* package."
   ]
  },
  {
   "cell_type": "markdown",
   "metadata": {},
   "source": [
    "### Using Pydap"
   ]
  },
  {
   "cell_type": "markdown",
   "metadata": {},
   "source": [
    "Let's use the following URL. It is one of the URLs from `URLs.txt`.\n",
    "\n",
    "https://oco2.gesdisc.eosdis.nasa.gov/opendap/hyrax/OCO2_L1B_Science.7r/2015/015/oco2_L1bScND_02879a_150115_B7000r_150616093751.h5"
   ]
  },
  {
   "cell_type": "markdown",
   "metadata": {},
   "source": [
    "Add \".html\" to the end of the URL and navigate to that website. You will notice the following variables:\n",
    "\n",
    "1. _SoundingGeometry_sounding_latitude\n",
    "2. _SoundingGeometry_sounding_longitude\n",
    "3. _SoundingMeasurements_radiance_weak_co2"
   ]
  },
  {
   "cell_type": "code",
   "execution_count": 4,
   "metadata": {
    "collapsed": true
   },
   "outputs": [],
   "source": [
    "opendap_url = r'https://oco2.gesdisc.eosdis.nasa.gov/opendap/hyrax/OCO2_L1B_Science.7r/2015/015/oco2_L1bScND_02879a_150115_B7000r_150616093751.h5'"
   ]
  },
  {
   "cell_type": "markdown",
   "metadata": {},
   "source": [
    "The \"r\" in front of the string ensures the URL is read a *raw string literal* so that it ignores special characters (such as \\t)."
   ]
  },
  {
   "cell_type": "code",
   "execution_count": 5,
   "metadata": {},
   "outputs": [
    {
     "name": "stdout",
     "output_type": "stream",
     "text": [
      "https://oco2.gesdisc.eosdis.nasa.gov/opendap/hyrax/OCO2_L1B_Science.7r/2015/015/oco2_L1bScND_02879a_150115_B7000r_150616093751.h5\n"
     ]
    }
   ],
   "source": [
    "print(opendap_url)"
   ]
  },
  {
   "cell_type": "markdown",
   "metadata": {},
   "source": [
    "Let's use the pydap package to have access to the data set through the URL. Note that we do not need to download the data set in this case. To do this, we are going to need setup a pydap session that will allow us to access the .h5 URL. You're going to need your Earthdata credentials.  Running the next code block will prompt you to enter in your username."
   ]
  },
  {
   "cell_type": "code",
   "execution_count": 6,
   "metadata": {},
   "outputs": [
    {
     "name": "stdout",
     "output_type": "stream",
     "text": [
      "input your username: kvgarimella\n"
     ]
    }
   ],
   "source": [
    "username = input(\"input your username: \")"
   ]
  },
  {
   "cell_type": "markdown",
   "metadata": {},
   "source": [
    "The same applies for the next code block."
   ]
  },
  {
   "cell_type": "code",
   "execution_count": 7,
   "metadata": {},
   "outputs": [
    {
     "name": "stdout",
     "output_type": "stream",
     "text": [
      "········\n"
     ]
    }
   ],
   "source": [
    "password = getpass.getpass()"
   ]
  },
  {
   "cell_type": "markdown",
   "metadata": {},
   "source": [
    "Run the following cell. This will set up the a Pydap session where we can access the data from a URL instead of downloading it to your local machine.  It will also remove the *username* and *password* variables that have your Earthdata credentials."
   ]
  },
  {
   "cell_type": "code",
   "execution_count": 8,
   "metadata": {
    "collapsed": true
   },
   "outputs": [],
   "source": [
    "session = setup_session(username=username, password=password, check_url=opendap_url)\n",
    "username = ''\n",
    "password = ''"
   ]
  },
  {
   "cell_type": "markdown",
   "metadata": {},
   "source": [
    "Now, let's get the dataset."
   ]
  },
  {
   "cell_type": "code",
   "execution_count": 9,
   "metadata": {
    "collapsed": true
   },
   "outputs": [],
   "source": [
    "dataset = open_url(opendap_url, session=session)"
   ]
  },
  {
   "cell_type": "markdown",
   "metadata": {},
   "source": [
    "We can inspect this data set and see all of the variables and measurments."
   ]
  },
  {
   "cell_type": "code",
   "execution_count": 10,
   "metadata": {},
   "outputs": [
    {
     "data": {
      "text/plain": [
       "<bound method StructureType.__iter__ of <DatasetType with children '_FootprintGeometry_footprint_altitude', '_FootprintGeometry_footprint_altitude_uncert', '_FootprintGeometry_footprint_aspect', '_FootprintGeometry_footprint_azimuth', '_FootprintGeometry_footprint_land_fraction', '_FootprintGeometry_footprint_latitude', '_FootprintGeometry_footprint_latitude_geoid', '_FootprintGeometry_footprint_longitude', '_FootprintGeometry_footprint_longitude_geoid', '_FootprintGeometry_footprint_o2_qual_flag', '_FootprintGeometry_footprint_plane_fit_quality', '_FootprintGeometry_footprint_polarization_angle', '_FootprintGeometry_footprint_slope', '_FootprintGeometry_footprint_solar_azimuth', '_FootprintGeometry_footprint_solar_zenith', '_FootprintGeometry_footprint_stokes_coefficients', '_FootprintGeometry_footprint_strong_co2_qual_flag', '_FootprintGeometry_footprint_surface_roughness', '_FootprintGeometry_footprint_time_string', '_FootprintGeometry_footprint_time_tai93', '_FootprintGeometry_footprint_vertex_altitude', '_FootprintGeometry_footprint_vertex_latitude', '_FootprintGeometry_footprint_vertex_longitude', '_FootprintGeometry_footprint_weak_co2_qual_flag', '_FootprintGeometry_footprint_zenith', '_FrameConfiguration_color_slice_position_o2', '_FrameConfiguration_color_slice_position_strong_co2', '_FrameConfiguration_color_slice_position_weak_co2', '_FrameConfiguration_footprint_spatial_end_position', '_FrameConfiguration_footprint_spatial_start_position', '_FrameConfiguration_initial_unused_pixels', '_FrameGeometry_ground_track', '_FrameGeometry_pitch', '_FrameGeometry_relative_velocity', '_FrameGeometry_roll', '_FrameGeometry_spacecraft_alt', '_FrameGeometry_spacecraft_lat', '_FrameGeometry_spacecraft_lon', '_FrameGeometry_spacecraft_position', '_FrameGeometry_spacecraft_velocity', '_FrameGeometry_yaw', '_FrameHeader_clocking_offset_interval', '_FrameHeader_clocking_offset_start', '_FrameHeader_frame_time_string', '_FrameHeader_frame_time_tai93', '_FrameTemperatures_temp_afe_electronics_enclosure', '_FrameTemperatures_temp_fpa', '_FrameTemperatures_temp_optical_bench_grating_mz', '_FrameTemperatures_temp_relay_sco2_mz', '_FrameTemperatures_temp_shroud_py_tz1', '_FrameTemperatures_temp_smooth_fpa_o2', '_FrameTemperatures_temp_smooth_fpa_strong_co2', '_FrameTemperatures_temp_smooth_fpa_weak_co2', '_FrameTemperatures_temp_smooth_optical_bench_grating_mz', '_FrameTemperatures_temp_telescope', '_InstrumentHeader_dispersion_coef_samp', '_InstrumentHeader_full_width_half_maximum', '_InstrumentHeader_ils_delta_lambda', '_InstrumentHeader_ils_relative_response', '_InstrumentHeader_measureable_signal_max_observed', '_InstrumentHeader_residual_estimate', '_InstrumentHeader_snr_coef', '_Metadata_ARPAncillaryDatasetDescriptor', '_Metadata_AcquisitionMode', '_Metadata_ActualFrames', '_Metadata_AncillaryDataDescriptors', '_Metadata_AscendingEquatorCrossingDate', '_Metadata_AscendingEquatorCrossingLongitude', '_Metadata_AscendingEquatorCrossingTime', '_Metadata_AutomaticQualityFlag', '_Metadata_BadPixelMapVersionNum', '_Metadata_BuildId', '_Metadata_CollectionLabel', '_Metadata_ColorSlicePositionO2', '_Metadata_ColorSlicePositionStrongCO2', '_Metadata_ColorSlicePositionWeakCO2', '_Metadata_DataFormatType', '_Metadata_DiffuserPosition', '_Metadata_EphemerisType', '_Metadata_EquatorCrossingDate', '_Metadata_EquatorCrossingLongitude', '_Metadata_EquatorCrossingTime', '_Metadata_ExpectedFrames', '_Metadata_GapStartTime', '_Metadata_GapStopTime', '_Metadata_GranulePointer', '_Metadata_HDFVersionId', '_Metadata_InitialUnusedSpatialPixels', '_Metadata_InputPointer', '_Metadata_InstrumentShortName', '_Metadata_L1BAlgorithmDescriptor', '_Metadata_LongName', '_Metadata_MaxMS', '_Metadata_ModeCounter', '_Metadata_OperationMode', '_Metadata_OrbitEccentricity', '_Metadata_OrbitInclination', '_Metadata_OrbitParametersPointer', '_Metadata_OrbitPeriod', '_Metadata_OrbitSemiMajorAxis', '_Metadata_OrbitStartDate', '_Metadata_OrbitStartLongitude', '_Metadata_OrbitStartTime', '_Metadata_PlatformLongName', '_Metadata_PlatformShortName', '_Metadata_PlatformType', '_Metadata_ProcessingLevel', '_Metadata_ProducerAgency', '_Metadata_ProducerInstitution', '_Metadata_ProductionDateTime', '_Metadata_ProductionLocation', '_Metadata_ProductionLocationCode', '_Metadata_ProjectId', '_Metadata_QAGranulePointer', '_Metadata_RangeBeginningDate', '_Metadata_RangeBeginningTime', '_Metadata_RangeEndingDate', '_Metadata_RangeEndingTime', '_Metadata_ReportedSoundings', '_Metadata_SISName', '_Metadata_SISVersion', '_Metadata_SciToFPAColorOffset', '_Metadata_ShortName', '_Metadata_SizeMBECSDataGranule', '_Metadata_SpectralChannel', '_Metadata_StartOrbitNumber', '_Metadata_StartPathNumber', '_Metadata_StopOrbitNumber', '_Metadata_StopPathNumber', '_RadianceClockingCorrection_clocking_shift_color_indicator', '_RadianceClockingCorrection_declocking_color_indicator', '_RadianceClockingCorrection_max_declocking_factor_o2', '_RadianceClockingCorrection_max_declocking_factor_strong_co2', '_RadianceClockingCorrection_max_declocking_factor_weak_co2', '_RadianceClockingCorrection_radiance_jump_ratio_o2', '_RadianceClockingCorrection_radiance_jump_ratio_strong_co2', '_RadianceClockingCorrection_radiance_jump_ratio_weak_co2', '_SliceMeasurements_radiance_slice_o2', '_SliceMeasurements_radiance_slice_strong_co2', '_SliceMeasurements_radiance_slice_weak_co2', '_SoundingGeometry_sounding_altitude', '_SoundingGeometry_sounding_altitude_uncert', '_SoundingGeometry_sounding_aspect', '_SoundingGeometry_sounding_azimuth', '_SoundingGeometry_sounding_center_offset_o2_weak_co2', '_SoundingGeometry_sounding_center_offset_strong_co2_o2', '_SoundingGeometry_sounding_center_offset_weak_co2_strong_co2', '_SoundingGeometry_sounding_land_fraction', '_SoundingGeometry_sounding_land_water_indicator', '_SoundingGeometry_sounding_latitude', '_SoundingGeometry_sounding_latitude_geoid', '_SoundingGeometry_sounding_longitude', '_SoundingGeometry_sounding_longitude_geoid', '_SoundingGeometry_sounding_overlap', '_SoundingGeometry_sounding_overlap_o2_weak_co2', '_SoundingGeometry_sounding_overlap_strong_co2_o2', '_SoundingGeometry_sounding_overlap_weak_co2_strong_co2', '_SoundingGeometry_sounding_plane_fit_quality', '_SoundingGeometry_sounding_polarization_angle', '_SoundingGeometry_sounding_relative_velocity', '_SoundingGeometry_sounding_slant_path_diff_o2_weak_co2', '_SoundingGeometry_sounding_slant_path_diff_strong_co2_o2', '_SoundingGeometry_sounding_slant_path_diff_weak_co2_strong_co2', '_SoundingGeometry_sounding_slope', '_SoundingGeometry_sounding_solar_azimuth', '_SoundingGeometry_sounding_solar_distance', '_SoundingGeometry_sounding_solar_relative_velocity', '_SoundingGeometry_sounding_solar_zenith', '_SoundingGeometry_sounding_surface_roughness', '_SoundingGeometry_sounding_time_string', '_SoundingGeometry_sounding_time_tai93', '_SoundingGeometry_sounding_zenith', '_SoundingMeasurements_radiance_o2', '_SoundingMeasurements_radiance_strong_co2', '_SoundingMeasurements_radiance_weak_co2', '_SoundingMeasurements_snr_o2_l1b', '_SoundingMeasurements_snr_strong_co2_l1b', '_SoundingMeasurements_snr_weak_co2_l1b', '_SpikeEOF_spike_eof_bad_colors_o2', '_SpikeEOF_spike_eof_bad_colors_strong_co2', '_SpikeEOF_spike_eof_bad_colors_weak_co2', '_SpikeEOF_spike_eof_weighted_residual_o2', '_SpikeEOF_spike_eof_weighted_residual_strong_co2', '_SpikeEOF_spike_eof_weighted_residual_weak_co2'>>"
      ]
     },
     "execution_count": 10,
     "metadata": {},
     "output_type": "execute_result"
    }
   ],
   "source": [
    "dataset.children"
   ]
  },
  {
   "cell_type": "markdown",
   "metadata": {},
   "source": [
    "## Indexing Data based on a Bounded Region"
   ]
  },
  {
   "cell_type": "markdown",
   "metadata": {},
   "source": [
    "Let's grab the latitude and longitude data we were working with earlier. We can store the attributes in variables by treating the dataset as a dictionary and inputing the variable names (as seen in the above attributes output) as keys to this dictionary. You will notice that these variable names are consistent with those seen on the OPeNDAP server. "
   ]
  },
  {
   "cell_type": "code",
   "execution_count": 11,
   "metadata": {
    "collapsed": true
   },
   "outputs": [],
   "source": [
    "sounding_geometry_sounding_latitude = dataset[\"_SoundingGeometry_sounding_latitude\"]\n",
    "sounding_geometry_sounding_longitude = dataset[\"_SoundingGeometry_sounding_longitude\"]"
   ]
  },
  {
   "cell_type": "code",
   "execution_count": 12,
   "metadata": {},
   "outputs": [
    {
     "data": {
      "text/plain": [
       "(8364, 8)"
      ]
     },
     "execution_count": 12,
     "metadata": {},
     "output_type": "execute_result"
    }
   ],
   "source": [
    "sounding_geometry_sounding_latitude.shape"
   ]
  },
  {
   "cell_type": "markdown",
   "metadata": {},
   "source": [
    "The shape and size of the data is the same is also consistent with the OPeNDAP server."
   ]
  },
  {
   "cell_type": "markdown",
   "metadata": {},
   "source": [
    "These two variables, however, hold the entire longitude and latitude coordinates information.  Remember, we were interested in a 5x5 degree region around Mauna Loa the volcano (-155.59, 19.47). The region was given by the following coordinates:\n",
    "* west: -158.09\n",
    "* south: 16.97\n",
    "* east: -153.09\n",
    "* north: 22.07"
   ]
  },
  {
   "cell_type": "code",
   "execution_count": 13,
   "metadata": {
    "collapsed": true
   },
   "outputs": [],
   "source": [
    "west = -158.09\n",
    "south = 16.97\n",
    "east = -153.09\n",
    "north = 22.07\n",
    "region_of_interest = [west, south, east, north]"
   ]
  },
  {
   "cell_type": "markdown",
   "metadata": {},
   "source": [
    "We can use the *numpy* function, *np.where*, to find the indices of data that match our region of interest."
   ]
  },
  {
   "cell_type": "code",
   "execution_count": 14,
   "metadata": {
    "collapsed": true
   },
   "outputs": [],
   "source": [
    "indices_above_west_south, indices_below_east_north = np.where(  (sounding_geometry_sounding_longitude.data[:] > region_of_interest[0]) \\\n",
    "                                                              & (sounding_geometry_sounding_latitude.data[:] > region_of_interest[1])  \\\n",
    "                                                              & (sounding_geometry_sounding_longitude.data[:] < region_of_interest[2]) \\\n",
    "                                                              & (sounding_geometry_sounding_latitude.data[:] < region_of_interest[3]))"
   ]
  },
  {
   "cell_type": "code",
   "execution_count": 15,
   "metadata": {},
   "outputs": [
    {
     "data": {
      "text/plain": [
       "(array([3, 4]),)"
      ]
     },
     "execution_count": 15,
     "metadata": {},
     "output_type": "execute_result"
    }
   ],
   "source": [
    "# Here's an example of how np.where works\n",
    "a = np.asarray([1,2,3,4,5])\n",
    "np.where(a > 3)"
   ]
  },
  {
   "cell_type": "code",
   "execution_count": 16,
   "metadata": {},
   "outputs": [
    {
     "data": {
      "text/plain": [
       "array([5992, 5992, 5992, ..., 6245, 6245, 6246])"
      ]
     },
     "execution_count": 16,
     "metadata": {},
     "output_type": "execute_result"
    }
   ],
   "source": [
    "indices_above_west_south"
   ]
  },
  {
   "cell_type": "code",
   "execution_count": 17,
   "metadata": {},
   "outputs": [
    {
     "data": {
      "text/plain": [
       "array([0, 1, 2, ..., 6, 7, 7])"
      ]
     },
     "execution_count": 17,
     "metadata": {},
     "output_type": "execute_result"
    }
   ],
   "source": [
    "indices_below_east_north"
   ]
  },
  {
   "cell_type": "markdown",
   "metadata": {},
   "source": [
    "Now, we have the indices that correspond to the data for each variable within a 5x5 degree of the volcano."
   ]
  },
  {
   "cell_type": "markdown",
   "metadata": {},
   "source": [
    "Now that we have the appropriate indices, let's first get the subset of latitude and longitude coordinates that correspond to this data. We'll create two variables that will be our ranges for indexing."
   ]
  },
  {
   "cell_type": "code",
   "execution_count": 18,
   "metadata": {
    "collapsed": true
   },
   "outputs": [],
   "source": [
    "west_south_slice = slice(indices_above_west_south.min(), indices_above_west_south.max() + 1)\n",
    "east_north_slice = slice(indices_below_east_north.min(), indices_below_east_north.max() + 1)"
   ]
  },
  {
   "cell_type": "code",
   "execution_count": 19,
   "metadata": {},
   "outputs": [
    {
     "name": "stdout",
     "output_type": "stream",
     "text": [
      "['c', 'd', 'e']\n"
     ]
    }
   ],
   "source": [
    "# Here's an example of how slices work in Python\n",
    "example_list = ['a', 'b', 'c', 'd', 'e', 'f', 'g', 'h']\n",
    "example_slice = slice(2,5)\n",
    "print(example_list[example_slice])"
   ]
  },
  {
   "cell_type": "markdown",
   "metadata": {},
   "source": [
    "Let's get the subsets of the latitude and longitude data."
   ]
  },
  {
   "cell_type": "code",
   "execution_count": 20,
   "metadata": {
    "collapsed": true
   },
   "outputs": [],
   "source": [
    "latitude_subset = dataset[\"_SoundingGeometry_sounding_latitude\"].data[west_south_slice, east_north_slice]\n",
    "longitude_subset = dataset[\"_SoundingGeometry_sounding_longitude\"].data[west_south_slice, east_north_slice]"
   ]
  },
  {
   "cell_type": "markdown",
   "metadata": {},
   "source": [
    "Compare this subset of latitude data to the total latitude data."
   ]
  },
  {
   "cell_type": "code",
   "execution_count": 21,
   "metadata": {},
   "outputs": [
    {
     "name": "stdout",
     "output_type": "stream",
     "text": [
      "Subset Latitude shape: (255, 8)\n",
      "Total Latitude shape : (8364, 8)\n"
     ]
    }
   ],
   "source": [
    "print(\"Subset Latitude shape:\", latitude_subset.shape)\n",
    "print(\"Total Latitude shape :\", sounding_geometry_sounding_latitude.shape)"
   ]
  },
  {
   "cell_type": "markdown",
   "metadata": {},
   "source": [
    "It is clear that we have greatly reduced the amount of data we will need by focusing on the data in a 5x5 degree box around the volcano."
   ]
  },
  {
   "cell_type": "markdown",
   "metadata": {},
   "source": [
    "Now, let's get the subsets of the actual measurements we want. In this case, O2 Radiance, Strong CO2 Radiance, and Weak CO2 Radiance.  "
   ]
  },
  {
   "cell_type": "code",
   "execution_count": 22,
   "metadata": {
    "collapsed": true
   },
   "outputs": [],
   "source": [
    "radiance_O2_subset = dataset[\"_SoundingMeasurements_radiance_o2\"].data[west_south_slice, east_north_slice]\n",
    "radiance_strong_CO2_subset = dataset[\"_SoundingMeasurements_radiance_strong_co2\"].data[west_south_slice, east_north_slice]\n",
    "radiance_weak_CO2_subset = dataset[\"_SoundingMeasurements_radiance_weak_co2\"].data[west_south_slice, east_north_slice]"
   ]
  },
  {
   "cell_type": "code",
   "execution_count": 23,
   "metadata": {},
   "outputs": [
    {
     "data": {
      "text/plain": [
       "array([[[  8.44491011e+18,   8.32489237e+18,   8.18422690e+18, ...,\n",
       "           7.36158934e+18,   7.76452462e+18,   7.81480583e+18],\n",
       "        [  8.17203936e+18,   8.38323245e+18,   8.16922571e+18, ...,\n",
       "           7.12338839e+18,   7.66981378e+18,   7.92689390e+18],\n",
       "        [  8.14079729e+18,   8.26092993e+18,   8.28451005e+18, ...,\n",
       "           7.06443258e+18,   7.48516730e+18,   7.81499770e+18],\n",
       "        ..., \n",
       "        [  8.13603585e+18,   8.30087903e+18,   8.40814299e+18, ...,\n",
       "           7.15035281e+18,   7.28501880e+18,   7.45514953e+18],\n",
       "        [  8.12478180e+18,   8.52851587e+18,   8.40987417e+18, ...,\n",
       "           7.29269559e+18,   7.39354554e+18,   7.42334836e+18],\n",
       "        [  7.79693657e+18,   8.20313740e+18,   8.11397525e+18, ...,\n",
       "           7.14648363e+18,   7.10132229e+18,   7.17221715e+18]],\n",
       "\n",
       "       [[  8.23881875e+18,   8.08472659e+18,   7.94476866e+18, ...,\n",
       "           7.32419055e+18,   7.55421773e+18,   7.77553513e+18],\n",
       "        [  8.12526668e+18,   8.07387881e+18,   8.16938844e+18, ...,\n",
       "           7.24512962e+18,   7.62720716e+18,   7.75171915e+18],\n",
       "        [  8.00398835e+18,   8.13314578e+18,   8.33283579e+18, ...,\n",
       "           7.23196791e+18,   7.53042320e+18,   7.51797837e+18],\n",
       "        ..., \n",
       "        [  8.07196291e+18,   8.19831989e+18,   8.30633866e+18, ...,\n",
       "           7.29725526e+18,   7.25509669e+18,   7.51671998e+18],\n",
       "        [  7.70475681e+18,   8.13466806e+18,   8.07263966e+18, ...,\n",
       "           7.19410293e+18,   7.11482759e+18,   7.36714187e+18],\n",
       "        [  7.80165402e+18,   8.20778118e+18,   8.43600406e+18, ...,\n",
       "           7.25488009e+18,   7.11275721e+18,   7.38860269e+18]],\n",
       "\n",
       "       [[  8.19472283e+18,   8.23161585e+18,   8.32599408e+18, ...,\n",
       "           7.37141183e+18,   7.55814408e+18,   7.73382405e+18],\n",
       "        [  8.12694234e+18,   8.12001817e+18,   8.17152919e+18, ...,\n",
       "           7.33055562e+18,   7.50762098e+18,   7.66853890e+18],\n",
       "        [  7.94325848e+18,   8.11922212e+18,   8.27479202e+18, ...,\n",
       "           6.95113725e+18,   7.33198444e+18,   7.65285657e+18],\n",
       "        ..., \n",
       "        [  8.00880531e+18,   8.04420134e+18,   8.04929263e+18, ...,\n",
       "           6.97090702e+18,   6.92880397e+18,   7.26592028e+18],\n",
       "        [  8.00730833e+18,   8.08462928e+18,   8.30024406e+18, ...,\n",
       "           7.15286905e+18,   6.98359373e+18,   7.27611221e+18],\n",
       "        [  7.52732312e+18,   8.07704540e+18,   8.11486201e+18, ...,\n",
       "           7.15439187e+18,   7.01263458e+18,   7.18016662e+18]],\n",
       "\n",
       "       ..., \n",
       "       [[  2.09354227e+20,   2.09273004e+20,   2.09573988e+20, ...,\n",
       "           2.01945172e+20,   2.09476193e+20,   2.11838754e+20],\n",
       "        [  1.95411979e+20,   1.96503258e+20,   1.96983929e+20, ...,\n",
       "           1.75385158e+20,   1.83105964e+20,   1.86780602e+20],\n",
       "        [  2.53393854e+20,   2.55785195e+20,   2.56331996e+20, ...,\n",
       "           2.28031446e+20,   2.38572438e+20,   2.46444237e+20],\n",
       "        ..., \n",
       "        [  4.23859481e+20,   4.38043286e+20,   4.38429787e+20, ...,\n",
       "           3.93823251e+20,   3.98457560e+20,   4.15712645e+20],\n",
       "        [  4.20530371e+20,   4.38188176e+20,   4.42963152e+20, ...,\n",
       "           3.92474247e+20,   3.91594145e+20,   4.03825534e+20],\n",
       "        [  3.17270748e+20,   3.36908905e+20,   3.40340437e+20, ...,\n",
       "           2.91452033e+20,   2.87627035e+20,   2.91643032e+20]],\n",
       "\n",
       "       [[  2.54001594e+20,   2.55363687e+20,   2.55650510e+20, ...,\n",
       "           2.28753377e+20,   2.38226716e+20,   2.40907677e+20],\n",
       "        [  2.21446990e+20,   2.21676709e+20,   2.22388893e+20, ...,\n",
       "           2.02857696e+20,   2.12637544e+20,   2.16831574e+20],\n",
       "        [  1.28834545e+20,   1.29218292e+20,   1.29362891e+20, ...,\n",
       "           1.18485396e+20,   1.24615543e+20,   1.27883520e+20],\n",
       "        ..., \n",
       "        [  4.25578097e+20,   4.39038969e+20,   4.41804566e+20, ...,\n",
       "           4.11221852e+20,   4.15121477e+20,   4.32608884e+20],\n",
       "        [  4.36937793e+20,   4.56843528e+20,   4.61283901e+20, ...,\n",
       "           3.92105550e+20,   3.92571180e+20,   4.04502165e+20],\n",
       "        [  3.62361244e+20,   3.83834196e+20,   3.89199109e+20, ...,\n",
       "           3.60629575e+20,   3.55510847e+20,   3.60971954e+20]],\n",
       "\n",
       "       [[  1.59517481e+20,   1.59183828e+20,   1.59087458e+20, ...,\n",
       "           1.52403764e+20,   1.57671023e+20,   1.59172023e+20],\n",
       "        [  1.68892727e+20,   1.68620276e+20,   1.69624245e+20, ...,\n",
       "           1.55435619e+20,   1.63001016e+20,   1.65918099e+20],\n",
       "        [  1.57532748e+20,   1.58876756e+20,   1.58507496e+20, ...,\n",
       "           1.49546652e+20,   1.56774613e+20,   1.61270859e+20],\n",
       "        ..., \n",
       "        [  4.75468305e+20,   4.93429153e+20,   4.95787807e+20, ...,\n",
       "           4.31127939e+20,   4.35442704e+20,   4.53459671e+20],\n",
       "        [  4.38734976e+20,   4.58504160e+20,   4.62016264e+20, ...,\n",
       "           4.13678109e+20,   4.13161954e+20,   4.23866271e+20],\n",
       "        [  3.70982260e+20,   3.92850579e+20,   3.98815315e+20, ...,\n",
       "           3.70991584e+20,   3.66534568e+20,   3.71417913e+20]]], dtype=float32)"
      ]
     },
     "execution_count": 23,
     "metadata": {},
     "output_type": "execute_result"
    }
   ],
   "source": [
    "radiance_O2_subset"
   ]
  },
  {
   "cell_type": "markdown",
   "metadata": {},
   "source": [
    "We have now succesfully obtained a subset of data from a server without having to download a large file."
   ]
  },
  {
   "cell_type": "code",
   "execution_count": 24,
   "metadata": {},
   "outputs": [
    {
     "data": {
      "text/plain": [
       "(255, 8, 1016)"
      ]
     },
     "execution_count": 24,
     "metadata": {},
     "output_type": "execute_result"
    }
   ],
   "source": [
    "radiance_O2_subset.shape"
   ]
  },
  {
   "cell_type": "markdown",
   "metadata": {},
   "source": [
    "## Plotting the Data"
   ]
  },
  {
   "cell_type": "markdown",
   "metadata": {},
   "source": [
    "We will now use Basemap to plot some of the data. "
   ]
  },
  {
   "cell_type": "code",
   "execution_count": 26,
   "metadata": {
    "collapsed": true
   },
   "outputs": [],
   "source": [
    "lat_min = np.min(latitude_subset)\n",
    "lat_max = np.max(latitude_subset)\n",
    "lon_min = np.min(longitude_subset)\n",
    "lon_max = np.max(longitude_subset)\n",
    "%matplotlib inline"
   ]
  },
  {
   "cell_type": "markdown",
   "metadata": {},
   "source": [
    "The last line in the above box ensures that any plot will appear within the Jupyter Notebook."
   ]
  },
  {
   "cell_type": "code",
   "execution_count": 27,
   "metadata": {},
   "outputs": [
    {
     "data": {
      "text/plain": [
       "(16.95529, -157.86559)"
      ]
     },
     "execution_count": 27,
     "metadata": {},
     "output_type": "execute_result"
    }
   ],
   "source": [
    "lat_min, lon_min"
   ]
  },
  {
   "cell_type": "code",
   "execution_count": 28,
   "metadata": {},
   "outputs": [
    {
     "data": {
      "text/plain": [
       "(22.088903, -156.61108)"
      ]
     },
     "execution_count": 28,
     "metadata": {},
     "output_type": "execute_result"
    }
   ],
   "source": [
    "lat_max, lon_max"
   ]
  },
  {
   "cell_type": "code",
   "execution_count": 30,
   "metadata": {},
   "outputs": [
    {
     "name": "stderr",
     "output_type": "stream",
     "text": [
      "/Users/Karthik/anaconda3/lib/python3.6/site-packages/mpl_toolkits/basemap/__init__.py:3296: MatplotlibDeprecationWarning: The ishold function was deprecated in version 2.0.\n",
      "  b = ax.ishold()\n",
      "/Users/Karthik/anaconda3/lib/python3.6/site-packages/mpl_toolkits/basemap/__init__.py:3305: MatplotlibDeprecationWarning: axes.hold is deprecated.\n",
      "    See the API Changes document (http://matplotlib.org/api/api_changes.html)\n",
      "    for more details.\n",
      "  ax.hold(b)\n",
      "/Users/Karthik/anaconda3/lib/python3.6/site-packages/mpl_toolkits/basemap/__init__.py:3342: MatplotlibDeprecationWarning: The ishold function was deprecated in version 2.0.\n",
      "  b = ax.ishold()\n",
      "/Users/Karthik/anaconda3/lib/python3.6/site-packages/mpl_toolkits/basemap/__init__.py:3381: MatplotlibDeprecationWarning: axes.hold is deprecated.\n",
      "    See the API Changes document (http://matplotlib.org/api/api_changes.html)\n",
      "    for more details.\n",
      "  ax.hold(b)\n"
     ]
    },
    {
     "data": {
      "image/png": "[encoded data removed]",
      "text/plain": [
       "<matplotlib.figure.Figure at 0x117bae5c0>"
      ]
     },
     "metadata": {},
     "output_type": "display_data"
    }
   ],
   "source": [
    "m = Basemap(llcrnrlon=lon_min, llcrnrlat=lat_min, urcrnrlon=lon_max, urcrnrlat=lat_max, resolution='l', projection='aeqd', lon_0=0, lat_0=0)\n",
    "\n",
    "\n",
    "m.bluemarble()\n",
    "pc = m.pcolor(longitude_subset, latitude_subset, radiance_weak_CO2_subset[:,:,0], latlon=True)\n",
    "cbar = m.colorbar(pc, location=\"bottom\", pad=\"5%\")\n",
    "cbar.set_label(\"photons/m^2/sr/um\")"
   ]
  },
  {
   "cell_type": "markdown",
   "metadata": {},
   "source": [
    "Now, we can see the data for the Weak CO2 Radiance move across the diagonal of the map projection."
   ]
  },
  {
   "cell_type": "markdown",
   "metadata": {},
   "source": [
    "## Constructing a URL for a Spatial Subset"
   ]
  },
  {
   "cell_type": "markdown",
   "metadata": {},
   "source": [
    "Instead of reading in the spatial subset as shown above (Reading Spatial Subsets into Python) using the *pydap* package, we can construct a URL based on the indices that match data in a 5x5 degree region around Mauna Loa. Then, you can use this URL to download the granule directly to your local machine. From here, we can use the *netCDF4* package to plot the data."
   ]
  },
  {
   "cell_type": "markdown",
   "metadata": {},
   "source": [
    "We have already found the indices that match to the data over a 5x5 degree region around the volcano."
   ]
  },
  {
   "cell_type": "code",
   "execution_count": 34,
   "metadata": {},
   "outputs": [
    {
     "data": {
      "text/plain": [
       "array([5992, 5992, 5992, ..., 6245, 6245, 6246])"
      ]
     },
     "execution_count": 34,
     "metadata": {},
     "output_type": "execute_result"
    }
   ],
   "source": [
    "indices_above_west_south"
   ]
  },
  {
   "cell_type": "code",
   "execution_count": 35,
   "metadata": {},
   "outputs": [
    {
     "data": {
      "text/plain": [
       "array([0, 1, 2, ..., 6, 7, 7])"
      ]
     },
     "execution_count": 35,
     "metadata": {},
     "output_type": "execute_result"
    }
   ],
   "source": [
    "indices_below_east_north"
   ]
  },
  {
   "cell_type": "code",
   "execution_count": 36,
   "metadata": {
    "scrolled": true
   },
   "outputs": [
    {
     "name": "stdout",
     "output_type": "stream",
     "text": [
      "5992 6246\n",
      "0 7\n"
     ]
    }
   ],
   "source": [
    "print(np.min(indices_above_west_south), np.max(indices_above_west_south))\n",
    "print(np.min(indices_below_east_north), np.max(indices_below_east_north))"
   ]
  },
  {
   "cell_type": "markdown",
   "metadata": {},
   "source": [
    "First, we will start with our original .h5 URL."
   ]
  },
  {
   "cell_type": "markdown",
   "metadata": {},
   "source": [
    "https://oco2.gesdisc.eosdis.nasa.gov/opendap/OCO2_L1B_Science.7r/2015/015/oco2_L1bScND_02879a_150115_B7000r_150616093751.h5"
   ]
  },
  {
   "cell_type": "markdown",
   "metadata": {},
   "source": [
    "Next, we will append \".nc4?\" and the subset of variables and indices we would like."
   ]
  },
  {
   "cell_type": "code",
   "execution_count": 55,
   "metadata": {
    "collapsed": true
   },
   "outputs": [],
   "source": [
    "url = \"https://oco2.gesdisc.eosdis.nasa.gov/opendap/OCO2_L1B_Science.7r/2015/015/oco2_L1bScND_02879a_150115_B7000r_150616093751.h5\""
   ]
  },
  {
   "cell_type": "code",
   "execution_count": 56,
   "metadata": {
    "collapsed": true
   },
   "outputs": [],
   "source": [
    "url = url + \".nc4?\""
   ]
  },
  {
   "cell_type": "markdown",
   "metadata": {},
   "source": [
    "Now, we can add the variable name and the indeces that corresponds to the data above the volcano."
   ]
  },
  {
   "cell_type": "code",
   "execution_count": 57,
   "metadata": {
    "collapsed": true
   },
   "outputs": [],
   "source": [
    "url = url + \"_SoundingGeometry_sounding_latitude[5992:6246][0:7],\""
   ]
  },
  {
   "cell_type": "code",
   "execution_count": 58,
   "metadata": {
    "collapsed": true
   },
   "outputs": [],
   "source": [
    "url = url + \"_SoundingGeometry_sounding_longitude[5992:6246][0:7],\""
   ]
  },
  {
   "cell_type": "code",
   "execution_count": 59,
   "metadata": {
    "collapsed": true
   },
   "outputs": [],
   "source": [
    "url = url + \"_SoundingMeasurements_radiance_weak_co2[5992:6246][0:7][0:1015]\""
   ]
  },
  {
   "cell_type": "markdown",
   "metadata": {},
   "source": [
    "Notice that the radiance measurment has a third dimension: `[0:1015]`. You can see this by examining the shape of the radiance variable."
   ]
  },
  {
   "cell_type": "code",
   "execution_count": 60,
   "metadata": {},
   "outputs": [
    {
     "data": {
      "text/plain": [
       "(255, 8, 1016)"
      ]
     },
     "execution_count": 60,
     "metadata": {},
     "output_type": "execute_result"
    }
   ],
   "source": [
    "radiance_weak_CO2_subset.shape"
   ]
  },
  {
   "cell_type": "code",
   "execution_count": 61,
   "metadata": {},
   "outputs": [
    {
     "name": "stdout",
     "output_type": "stream",
     "text": [
      "https://oco2.gesdisc.eosdis.nasa.gov/opendap/OCO2_L1B_Science.7r/2015/015/oco2_L1bScND_02879a_150115_B7000r_150616093751.h5.nc4?_SoundingGeometry_sounding_latitude[5992:6246][0:7],_SoundingGeometry_sounding_longitude[5992:6246][0:7],_SoundingMeasurements_radiance_weak_co2[5992:6246][0:7][0:1015]\n"
     ]
    }
   ],
   "source": [
    "print(url)"
   ]
  },
  {
   "cell_type": "markdown",
   "metadata": {},
   "source": [
    "If you click on the above URL, a .nc4 file will download directly to your machine.  Alternatively, we can use *wget* to obtain the data from the above URL.  You will need your Earthdata login info.  Run the following command in your terminal. *Make sure to put single quotes around your username and password to catch special characters*.\n",
    "\n",
    "> wget --user=`'<username>'` --password=`'<password>'` -O subset.nc4  \"https://oco2.gesdisc.eosdis.nasa.gov/opendap/OCO2_L1B_Science.7r/2015/015/oco2_L1bScND_02879a_150115_B7000r_150616093751.h5.nc4?_SoundingGeometry_sounding_latitude[5992:6246][0:7],_SoundingGeometry_sounding_longitude[5992:6246][0:7],_SoundingMeasurements_radiance_weak_co2[5992:6246][0:7][0:1015]\""
   ]
  },
  {
   "cell_type": "markdown",
   "metadata": {},
   "source": [
    "Now, let's use *netCDF4* to examine this downloaded subset. Then, we will plot it."
   ]
  },
  {
   "cell_type": "code",
   "execution_count": 62,
   "metadata": {},
   "outputs": [],
   "source": [
    "data = netCDF4.Dataset(\"subset.nc4\")"
   ]
  },
  {
   "cell_type": "code",
   "execution_count": 63,
   "metadata": {},
   "outputs": [
    {
     "name": "stdout",
     "output_type": "stream",
     "text": [
      "_SoundingGeometry_sounding_latitude\n",
      "_SoundingGeometry_sounding_longitude\n",
      "_SoundingMeasurements_radiance_weak_co2\n"
     ]
    }
   ],
   "source": [
    "for v in data.variables:\n",
    "    print(v)"
   ]
  },
  {
   "cell_type": "code",
   "execution_count": 64,
   "metadata": {
    "collapsed": true
   },
   "outputs": [],
   "source": [
    "lat_nc4 = data[\"_SoundingGeometry_sounding_latitude\"][:]\n",
    "lon_nc4 = data[\"_SoundingGeometry_sounding_longitude\"][:]\n",
    "rad_nc4 = data[\"_SoundingMeasurements_radiance_weak_co2\"][:]"
   ]
  },
  {
   "cell_type": "code",
   "execution_count": 65,
   "metadata": {},
   "outputs": [
    {
     "data": {
      "text/plain": [
       "(255, 8)"
      ]
     },
     "execution_count": 65,
     "metadata": {},
     "output_type": "execute_result"
    }
   ],
   "source": [
    "lat_nc4.shape"
   ]
  },
  {
   "cell_type": "code",
   "execution_count": 66,
   "metadata": {},
   "outputs": [
    {
     "data": {
      "text/plain": [
       "(255, 8)"
      ]
     },
     "execution_count": 66,
     "metadata": {},
     "output_type": "execute_result"
    }
   ],
   "source": [
    "lon_nc4.shape"
   ]
  },
  {
   "cell_type": "markdown",
   "metadata": {},
   "source": [
    "You can see that the shape of the data from the downloaded `.nc4` file is the same as the shape of the data from the *pydap* server."
   ]
  },
  {
   "cell_type": "code",
   "execution_count": 68,
   "metadata": {},
   "outputs": [
    {
     "data": {
      "text/plain": [
       "(255, 8)"
      ]
     },
     "execution_count": 68,
     "metadata": {},
     "output_type": "execute_result"
    }
   ],
   "source": [
    "latitude_subset.shape"
   ]
  },
  {
   "cell_type": "code",
   "execution_count": 70,
   "metadata": {},
   "outputs": [
    {
     "data": {
      "text/plain": [
       "True"
      ]
     },
     "execution_count": 70,
     "metadata": {},
     "output_type": "execute_result"
    }
   ],
   "source": [
    "rad_nc4.shape == radiance_weak_CO2_subset.shape"
   ]
  },
  {
   "cell_type": "code",
   "execution_count": 71,
   "metadata": {
    "collapsed": true
   },
   "outputs": [],
   "source": [
    "lats_min = lat_nc4.min()\n",
    "lats_max = lat_nc4.max()\n",
    "lons_min = lon_nc4.min()\n",
    "lons_max = lon_nc4.max()"
   ]
  },
  {
   "cell_type": "code",
   "execution_count": 73,
   "metadata": {},
   "outputs": [
    {
     "name": "stderr",
     "output_type": "stream",
     "text": [
      "/Users/Karthik/anaconda3/lib/python3.6/site-packages/mpl_toolkits/basemap/__init__.py:3296: MatplotlibDeprecationWarning: The ishold function was deprecated in version 2.0.\n",
      "  b = ax.ishold()\n",
      "/Users/Karthik/anaconda3/lib/python3.6/site-packages/mpl_toolkits/basemap/__init__.py:3305: MatplotlibDeprecationWarning: axes.hold is deprecated.\n",
      "    See the API Changes document (http://matplotlib.org/api/api_changes.html)\n",
      "    for more details.\n",
      "  ax.hold(b)\n",
      "/Users/Karthik/anaconda3/lib/python3.6/site-packages/mpl_toolkits/basemap/__init__.py:3342: MatplotlibDeprecationWarning: The ishold function was deprecated in version 2.0.\n",
      "  b = ax.ishold()\n",
      "/Users/Karthik/anaconda3/lib/python3.6/site-packages/mpl_toolkits/basemap/__init__.py:3381: MatplotlibDeprecationWarning: axes.hold is deprecated.\n",
      "    See the API Changes document (http://matplotlib.org/api/api_changes.html)\n",
      "    for more details.\n",
      "  ax.hold(b)\n"
     ]
    },
    {
     "data": {
      "image/png": "[encoded data removed]",
      "text/plain": [
       "<matplotlib.figure.Figure at 0x11c5cef98>"
      ]
     },
     "metadata": {},
     "output_type": "display_data"
    }
   ],
   "source": [
    "m = Basemap(llcrnrlon=lons_min, llcrnrlat=lats_min, urcrnrlon=lons_max, urcrnrlat=lats_max, resolution='l', projection='aeqd', lon_0=0, lat_0=0)\n",
    "\n",
    "\n",
    "m.bluemarble()\n",
    "pc = m.pcolor(lon_nc4, lat_nc4, rad_nc4[:,:,0], latlon=True)\n",
    "cbar = m.colorbar(pc, location=\"bottom\", pad=\"5%\")\n",
    "cbar.set_label(\"photons/m^2/sr/um\")"
   ]
  },
  {
   "cell_type": "markdown",
   "metadata": {
    "collapsed": true
   },
   "source": [
    "You can see that the downloaded `.nc4` map agrees with the map produced by the data from the *pydap* server."
   ]
  },
  {
   "cell_type": "code",
   "execution_count": null,
   "metadata": {
    "collapsed": true
   },
   "outputs": [],
   "source": []
  }
 ],
 "metadata": {
  "kernelspec": {
   "display_name": "Python 3",
   "language": "python",
   "name": "python3"
  },
  "language_info": {
   "codemirror_mode": {
    "name": "ipython",
    "version": 3
   },
   "file_extension": ".py",
   "mimetype": "text/x-python",
   "name": "python",
   "nbconvert_exporter": "python",
   "pygments_lexer": "ipython3",
   "version": "3.6.0"
  }
 },
 "nbformat": 4,
 "nbformat_minor": 2
}
