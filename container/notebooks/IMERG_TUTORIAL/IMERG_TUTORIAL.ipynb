{
 "cells": [
  {
   "cell_type": "markdown",
   "metadata": {},
   "source": [
    "# Introduction"
   ]
  },
  {
   "cell_type": "markdown",
   "metadata": {},
   "source": [
    "In this tutorial, you will learn how to work with *.h5* data.  Specifically, we will look at data from the [Global Precipitation Measurement (GPM) mission](https://www.nasa.gov/mission_pages/GPM/main/index.html).  We will download an Integrated Mulit-Satellite Retrievals for GPM (IMERG) dataset into this Jupyter notebook. Then, we will learn how to navigate the dataset hierarchy and plot measurements."
   ]
  },
  {
   "cell_type": "markdown",
   "metadata": {},
   "source": [
    "# Import Dependencies\n",
    "Let's import all the libraries we need. This needs to be done before any of the other cells can be run. These libraries were installed in the docker container you are using, so we will not need to worry about installing anything. Simply running the following cell takes care of all of the dependencies."
   ]
  },
  {
   "cell_type": "code",
   "execution_count": null,
   "metadata": {
    "collapsed": true
   },
   "outputs": [],
   "source": [
    "from mpl_toolkits.basemap import Basemap, cm\n",
    "import matplotlib.pyplot as plt\n",
    "import numpy as np\n",
    "import h5py"
   ]
  },
  {
   "cell_type": "markdown",
   "metadata": {},
   "source": [
    "# Approving the GES DISC DAAC\n",
    " \n",
    "Before we can obtain any GES DISC data, we need to approve the GES DISC DAAC in our Earthdata Account. If you do not yet have an Earthdata Login Account, [you can create one here](https://urs.earthdata.nasa.gov). Next, we will need to approve the GES DISC data. Go to [this link](https://urs.earthdata.nasa.gov/approve_app?client_id=e2WVk8Pw6weeLUKZYOxvTQ) and click approve. If you are prompted to login, fill out your login information and click the link again.\n",
    "\n",
    "# Downloading the Data"
   ]
  },
  {
   "cell_type": "markdown",
   "metadata": {},
   "source": [
    "Let's use the *wget* command to download the dataset to our local machine. We will first change directories into the directory of this Jupyter Notebook. In your terminal, type the following command:\n",
    "\n",
    "> `cd /home/condauser/tutorials/notebooks/IMERG_TUTORIAL`\n",
    "\n",
    "<br>\n",
    "Now, you are in the same directory as this Jupyter Notebook.  Run the following command to list all files of this directory:\n",
    "\n",
    "> `ls`\n",
    "\n",
    "Next, we need to input your username and password for Earthdata login. Run the following command and enter your username and password when prompted:\n",
    "\n",
    "> `read -p \"enter your username: \" username; read -s -p \"enter your password: \" password; echo \"\"`\n",
    "\n",
    "<br> \n",
    "Now, let's run the following *wget* command to download the IMERG *.h5* file into this directory. We are obtaining this dataset from the GES DISC DAAC.  *wget* will require a URL for the data. We have provided that for you already. Later in this tutorial, we will learn where the data URL can be found. Run the following commands in your terminal.\n",
    "\n",
    "> `cd /home/condauser/tutorials/notebooks/IMERG_TUTORIAL`\n",
    "\n",
    "> `wget --user=\"$username\" --password=\"$password\" \"http://gpm1.gesdisc.eosdis.nasa.gov/data//GPM_L3/GPM_3IMERGM.04/2017/3B-MO.MS.MRG.3IMERG.20170101-S000000-E235959.01.V04A.HDF5\"; username=\"\"; password=\"\"`"
   ]
  },
  {
   "cell_type": "markdown",
   "metadata": {},
   "source": [
    "Now, the data will be downloaded as an HDF5 (Hierarchical Data Format 5) to your local machine. You can see this by typing in the following command:\n",
    "\n",
    "> `ls`\n",
    "\n",
    "You should now see `3B-MO.MS.MRG.3IMERG.20170101-S000000-E235959.01.V04A.HDF5` in your directory."
   ]
  },
  {
   "cell_type": "markdown",
   "metadata": {},
   "source": [
    "# Read the Data into Python"
   ]
  },
  {
   "cell_type": "markdown",
   "metadata": {},
   "source": [
    "Let's use the *h5py* package to import the data into Python. To pull the dataset into this Jupyter Notebook, we will use the `File()` method which takes as input the file and the `\"r\"` flag.  This flag ensures that we will *read* in an existing dataset."
   ]
  },
  {
   "cell_type": "code",
   "execution_count": null,
   "metadata": {
    "collapsed": true
   },
   "outputs": [],
   "source": [
    "dataset = h5py.File(\"3B-MO.MS.MRG.3IMERG.20170101-S000000-E235959.01.V04A.HDF5\", \"r\")"
   ]
  },
  {
   "cell_type": "markdown",
   "metadata": {},
   "source": [
    "We now have an object that contains all of the data from the above dataset. Since this data is stored in hierarchical format (dictionaries of dictionaries), let's find the keys for the root dictionary. We can use the `keys()` function."
   ]
  },
  {
   "cell_type": "code",
   "execution_count": null,
   "metadata": {
    "collapsed": true
   },
   "outputs": [],
   "source": [
    "list(dataset.keys())"
   ]
  },
  {
   "cell_type": "markdown",
   "metadata": {},
   "source": [
    "So, the root level dictionary has one key: \"Grid\". Let's navigate into this directory."
   ]
  },
  {
   "cell_type": "code",
   "execution_count": null,
   "metadata": {
    "collapsed": true
   },
   "outputs": [],
   "source": [
    "grid = dataset[\"Grid\"]"
   ]
  },
  {
   "cell_type": "markdown",
   "metadata": {
    "collapsed": true
   },
   "source": [
    "Now, let's use the `keys()` function once more to see what the grid directory holds."
   ]
  },
  {
   "cell_type": "code",
   "execution_count": null,
   "metadata": {
    "collapsed": true
   },
   "outputs": [],
   "source": [
    "list(grid.keys())"
   ]
  },
  {
   "cell_type": "markdown",
   "metadata": {},
   "source": [
    "The \"Grid\" directory contains some atmospheric measurements as well as the latitude and longitude for each measurement. "
   ]
  },
  {
   "cell_type": "markdown",
   "metadata": {},
   "source": [
    "Here's the hierarchy of this dataset:\n",
    "\n",
    "Root\n",
    "<br>\n",
    "|&nbsp; &nbsp; -- Grid\n",
    "<br>\n",
    "|&nbsp; &nbsp; &nbsp; &nbsp; &nbsp; &nbsp; | &nbsp; -- lat\n",
    "<br>\n",
    "|&nbsp; &nbsp; &nbsp; &nbsp; &nbsp; &nbsp; | &nbsp; -- precipitation\n",
    "<br>\n",
    "|&nbsp; &nbsp; &nbsp; &nbsp; &nbsp; &nbsp; | &nbsp; -- randomError\n",
    "<br>\n",
    "| &nbsp;&nbsp; &nbsp; &nbsp; &nbsp; &nbsp; | &nbsp; -- lon\n",
    "<br>\n",
    "|&nbsp; &nbsp; &nbsp; &nbsp; &nbsp; &nbsp; | &nbsp; -- gaugeRelativeWeighting\n",
    "<br>\n",
    "|&nbsp; &nbsp; &nbsp; &nbsp; &nbsp; &nbsp; | &nbsp; -- probabilityLiquidPrecipitation"
   ]
  },
  {
   "cell_type": "markdown",
   "metadata": {},
   "source": [
    "Now that we are in a directory that contains the measurements, let's store one of these measurements in a variable. "
   ]
  },
  {
   "cell_type": "code",
   "execution_count": null,
   "metadata": {
    "collapsed": true
   },
   "outputs": [],
   "source": [
    "precipitation = grid[\"precipitation\"]"
   ]
  },
  {
   "cell_type": "markdown",
   "metadata": {},
   "source": [
    "We can grab the data for the precipitation object as a numpy array using the following:"
   ]
  },
  {
   "cell_type": "code",
   "execution_count": null,
   "metadata": {
    "collapsed": true
   },
   "outputs": [],
   "source": [
    "precipitation_data = precipitation[:]"
   ]
  },
  {
   "cell_type": "code",
   "execution_count": null,
   "metadata": {
    "collapsed": true
   },
   "outputs": [],
   "source": [
    "precipitation_data.shape"
   ]
  },
  {
   "cell_type": "markdown",
   "metadata": {},
   "source": [
    "Okay, let's get the latitude and longitude data now."
   ]
  },
  {
   "cell_type": "code",
   "execution_count": null,
   "metadata": {
    "collapsed": true
   },
   "outputs": [],
   "source": [
    "lat = grid[\"lat\"][:]\n",
    "lon = grid[\"lon\"][:]"
   ]
  },
  {
   "cell_type": "code",
   "execution_count": null,
   "metadata": {
    "collapsed": true
   },
   "outputs": [],
   "source": [
    "lat"
   ]
  },
  {
   "cell_type": "code",
   "execution_count": null,
   "metadata": {
    "collapsed": true
   },
   "outputs": [],
   "source": [
    "lon"
   ]
  },
  {
   "cell_type": "markdown",
   "metadata": {},
   "source": [
    "We can see that the longitude and latitude coordinates stretch across the whole world. Latitude goes from -90 to 90 degrees, and longitude goes from -180 to 180 degrees."
   ]
  },
  {
   "cell_type": "markdown",
   "metadata": {},
   "source": [
    "# Plotting the Data"
   ]
  },
  {
   "cell_type": "markdown",
   "metadata": {},
   "source": [
    "We are going to use the packages *matplotlib*, *numpy*, and *basemap* to plot this data onto a world projection."
   ]
  },
  {
   "cell_type": "code",
   "execution_count": null,
   "metadata": {
    "collapsed": true
   },
   "outputs": [],
   "source": [
    "%matplotlib inline"
   ]
  },
  {
   "cell_type": "markdown",
   "metadata": {},
   "source": [
    "The above box ensures that any plots we create stay within the Jupyter Notebook.  "
   ]
  },
  {
   "cell_type": "markdown",
   "metadata": {},
   "source": [
    "## Reshape Data"
   ]
  },
  {
   "cell_type": "markdown",
   "metadata": {},
   "source": [
    "To use the *basemap* package, the latitude, longitude and precipitation data must be the same numpy array shape. This is because basemap projects the data onto the the longitude and latitude coordinates."
   ]
  },
  {
   "cell_type": "code",
   "execution_count": null,
   "metadata": {
    "collapsed": true
   },
   "outputs": [],
   "source": [
    "lon.ndim"
   ]
  },
  {
   "cell_type": "code",
   "execution_count": null,
   "metadata": {
    "collapsed": true
   },
   "outputs": [],
   "source": [
    "lon.shape"
   ]
  },
  {
   "cell_type": "code",
   "execution_count": null,
   "metadata": {
    "collapsed": true
   },
   "outputs": [],
   "source": [
    "lat.ndim"
   ]
  },
  {
   "cell_type": "code",
   "execution_count": null,
   "metadata": {
    "collapsed": true
   },
   "outputs": [],
   "source": [
    "lat.shape"
   ]
  },
  {
   "cell_type": "code",
   "execution_count": null,
   "metadata": {
    "collapsed": true
   },
   "outputs": [],
   "source": [
    "precipitation_data.ndim"
   ]
  },
  {
   "cell_type": "code",
   "execution_count": null,
   "metadata": {
    "collapsed": true
   },
   "outputs": [],
   "source": [
    "precipitation_data.shape"
   ]
  },
  {
   "cell_type": "markdown",
   "metadata": {},
   "source": [
    "We need to reconfigure the coordinate data to a 2-dimensional grid. We can do so by using the numpy meshgrid method. Specifically, it must the coordinate data must be a 2-dimensional grid with a shape of (3600,1800) so that it matches the shape and dimensions of the precipitation data. We can use the numpy function `meshgrid()` to do this."
   ]
  },
  {
   "cell_type": "code",
   "execution_count": null,
   "metadata": {
    "collapsed": true
   },
   "outputs": [],
   "source": [
    "lats, lons = np.meshgrid(lat,lon)"
   ]
  },
  {
   "cell_type": "code",
   "execution_count": null,
   "metadata": {
    "collapsed": true
   },
   "outputs": [],
   "source": [
    "lats.shape"
   ]
  },
  {
   "cell_type": "markdown",
   "metadata": {},
   "source": [
    "Now, let's check the dimensions and shapes of our coordinates and precipitation data."
   ]
  },
  {
   "cell_type": "code",
   "execution_count": null,
   "metadata": {
    "collapsed": true
   },
   "outputs": [],
   "source": [
    "lats.shape == lons.shape == precipitation_data.shape"
   ]
  },
  {
   "cell_type": "markdown",
   "metadata": {},
   "source": [
    "Below is an example of how meshgrid can be used."
   ]
  },
  {
   "cell_type": "code",
   "execution_count": null,
   "metadata": {
    "collapsed": true
   },
   "outputs": [],
   "source": [
    "# example of np.meshgrid\n",
    "xs = np.linspace(0,5,6)\n",
    "ys = np.linspace(9,12,4)\n",
    "print(\"xs\")\n",
    "print(xs, xs.shape)\n",
    "print('\\nys')\n",
    "print(ys, ys.shape)\n",
    "print('\\nxgrid')\n",
    "xgrid, ygrid = np.meshgrid(xs, ys)\n",
    "print(xgrid, xgrid.shape)\n",
    "print('\\nygrid')\n",
    "print(ygrid, ygrid.shape)"
   ]
  },
  {
   "cell_type": "markdown",
   "metadata": {},
   "source": [
    "## Masking Data"
   ]
  },
  {
   "cell_type": "markdown",
   "metadata": {},
   "source": [
    "Let's gain a little bit more information about this dataset. <br> <br>\n",
    "1\\. Go to the following website: https://mirador.gsfc.nasa.gov <br>\n",
    "2\\. In the Keyword Box, type: IMERG <br>\n",
    "3\\. Click on `Search GES-DISC` <br> \n",
    "4\\. On the first result, click on `View Files` <br>\n",
    "\n",
    "You will notice that the first result on this page is the dataset we have been examining: `3B-MO.MS.MRG.3IMERG.20170101-S000000-E235959.01.V04A.HDF5`\n",
    "\n",
    "5\\. Now, click on `OPeNDAP` (beside One Click Download)\n",
    "\n",
    "You are now on an *OPeNDAP Server Data Access Form* for this dataset.  Some of the useful information on the website are:\n",
    "\n",
    "* The data URL: This was used in the *wget* command.\n",
    "\n",
    "* The variable, *precipitation*, has units of *mm/hr*\n",
    "\n",
    "* The variable, *precipitation*, has a fill value of -9999.9004"
   ]
  },
  {
   "cell_type": "markdown",
   "metadata": {},
   "source": [
    "For a numpy array, if data is missing for a certain measurement, this fill value will be used."
   ]
  },
  {
   "cell_type": "code",
   "execution_count": null,
   "metadata": {
    "collapsed": true
   },
   "outputs": [],
   "source": [
    "precipitation_data.mean()"
   ]
  },
  {
   "cell_type": "code",
   "execution_count": null,
   "metadata": {
    "collapsed": true
   },
   "outputs": [],
   "source": [
    "precipitation_data.max()"
   ]
  },
  {
   "cell_type": "code",
   "execution_count": null,
   "metadata": {
    "collapsed": true
   },
   "outputs": [],
   "source": [
    "precipitation_data.min()"
   ]
  },
  {
   "cell_type": "markdown",
   "metadata": {},
   "source": [
    "Evidently, some of the precipitation data is not recorded. We will create a masked numpy array to *hide* these fill values for plotting the data. Here's how we can do that."
   ]
  },
  {
   "cell_type": "code",
   "execution_count": null,
   "metadata": {
    "collapsed": true
   },
   "outputs": [],
   "source": [
    "precipitation_data_masked = np.ma.masked_where(precipitation_data < -9000, precipitation_data)"
   ]
  },
  {
   "cell_type": "markdown",
   "metadata": {},
   "source": [
    "Now that we have created a masked numpy array, let's compare the arrays before and after masking."
   ]
  },
  {
   "cell_type": "code",
   "execution_count": null,
   "metadata": {
    "collapsed": true
   },
   "outputs": [],
   "source": [
    "precipitation_data"
   ]
  },
  {
   "cell_type": "code",
   "execution_count": null,
   "metadata": {
    "collapsed": true
   },
   "outputs": [],
   "source": [
    "precipitation_data_masked"
   ]
  },
  {
   "cell_type": "code",
   "execution_count": null,
   "metadata": {
    "collapsed": true
   },
   "outputs": [],
   "source": [
    "precipitation_data_masked.mean()"
   ]
  },
  {
   "cell_type": "code",
   "execution_count": null,
   "metadata": {
    "collapsed": true
   },
   "outputs": [],
   "source": [
    "precipitation_data_masked.min()"
   ]
  },
  {
   "cell_type": "code",
   "execution_count": null,
   "metadata": {
    "collapsed": true
   },
   "outputs": [],
   "source": [
    "precipitation_data_masked.max()"
   ]
  },
  {
   "cell_type": "markdown",
   "metadata": {},
   "source": [
    "Now, we are ready to plot."
   ]
  },
  {
   "cell_type": "markdown",
   "metadata": {},
   "source": [
    "## Using Basemap"
   ]
  },
  {
   "cell_type": "markdown",
   "metadata": {},
   "source": [
    "We are going to setup the boundaries for our map.  We will use:\n",
    "\n",
    "* Minimum Latitude: -60\n",
    "* Maximum Latitude: 60\n",
    "* Minimum Longitude: -180\n",
    "* Maximum Longitude: 180"
   ]
  },
  {
   "cell_type": "code",
   "execution_count": null,
   "metadata": {
    "collapsed": true
   },
   "outputs": [],
   "source": [
    "latcorners = [-60,60]\n",
    "loncorners = [-180, 180]"
   ]
  },
  {
   "cell_type": "markdown",
   "metadata": {},
   "source": [
    "Let's configure the coloring scheme."
   ]
  },
  {
   "cell_type": "code",
   "execution_count": null,
   "metadata": {
    "collapsed": true
   },
   "outputs": [],
   "source": [
    "cmap = cm.GMT_drywet"
   ]
  },
  {
   "cell_type": "markdown",
   "metadata": {},
   "source": [
    "We will use a cylinder projection of the world, and produce a contour map with the precipitation data."
   ]
  },
  {
   "cell_type": "code",
   "execution_count": null,
   "metadata": {
    "collapsed": true
   },
   "outputs": [],
   "source": [
    "plt.figure(figsize=(20,20))\n",
    "plt.title(\"Precipitation Measurement from IMERG\")\n",
    "\n",
    "m = Basemap(projection=\"cyl\", llcrnrlat=latcorners[0], urcrnrlat=latcorners[1], llcrnrlon=loncorners[0], urcrnrlon=loncorners[1])\n",
    "m.drawcoastlines()\n",
    "\n",
    "plot_data = m.contour(lons, lats, precipitation_data_masked,cmap=cmap, latlon=True)\n",
    "\n",
    "cbar = m.colorbar(plot_data,location='right',pad=\"5%\")\n",
    "cbar.set_label('mm/h')\n",
    "\n",
    "parallels = np.arange(-60.,61,20.)\n",
    "m.drawparallels(parallels,labels=[True,False,True,False])\n",
    "\n",
    "meridians = np.arange(-180.,180.,60.)\n",
    "m.drawmeridians(meridians,labels=[False,False,False,True])\n",
    "\n",
    "font = {'weight' : 'bold', 'size' : 20}\n",
    "plt.rc('font', **font)"
   ]
  },
  {
   "cell_type": "markdown",
   "metadata": {},
   "source": [
    "The Basemap API is quite useful: https://matplotlib.org/basemap/api/basemap_api.html. <br> <br> Let's try plotting a filled contour."
   ]
  },
  {
   "cell_type": "code",
   "execution_count": null,
   "metadata": {
    "collapsed": true
   },
   "outputs": [],
   "source": [
    "plt.figure(figsize=(20,20))\n",
    "plt.title(\"Precipitation Measurement from IMERG\")\n",
    "\n",
    "m = Basemap(projection=\"cyl\", llcrnrlat=latcorners[0], urcrnrlat=latcorners[1], llcrnrlon=loncorners[0], urcrnrlon=loncorners[1])\n",
    "m.drawcoastlines()\n",
    "\n",
    "\n",
    "data_range = np.arange(0, np.max(precipitation_data_masked), 0.25)\n",
    "plot_data = m.contourf(lons, lats, precipitation_data_masked, data_range,cmap=cmap, latlon=True)\n",
    "\n",
    "cbar = m.colorbar(plot_data,location='right',pad=\"5%\")\n",
    "cbar.set_label('mm/h')\n",
    "\n",
    "parallels = np.arange(-60.,61,20.)\n",
    "m.drawparallels(parallels,labels=[True,False,True,False])\n",
    "\n",
    "meridians = np.arange(-180.,180.,60.)\n",
    "m.drawmeridians(meridians,labels=[False,False,False,True])\n",
    "\n",
    "font = {'weight' : 'bold', 'size' : 20}\n",
    "plt.rc('font', **font)"
   ]
  },
  {
   "cell_type": "markdown",
   "metadata": {},
   "source": [
    "Let's try plotting a different projection. A list can be found here: https://matplotlib.org/basemap/users/mapsetup.html. In this case, we will use an Orthographic projection."
   ]
  },
  {
   "cell_type": "code",
   "execution_count": null,
   "metadata": {
    "collapsed": true
   },
   "outputs": [],
   "source": [
    "plt.figure(figsize=(13,13))\n",
    "plt.title(\"Precipitation Measurement from IMERG\")\n",
    "\n",
    "m = Basemap(projection=\"ortho\", lat_0=0, lon_0=125)\n",
    "m.drawcoastlines()\n",
    "\n",
    "\n",
    "data_range = np.arange(0, np.max(precipitation_data_masked), 0.25)\n",
    "plot_data = m.contourf(lons, lats, precipitation_data_masked, data_range,cmap=cmap, latlon=True)\n",
    "\n",
    "cbar = m.colorbar(plot_data,location='right',pad=\"5%\")\n",
    "cbar.set_label('mm/h')\n",
    "\n",
    "\n",
    "font = {'weight' : 'bold', 'size' : 12}\n",
    "plt.rc('font', **font)"
   ]
  },
  {
   "cell_type": "code",
   "execution_count": null,
   "metadata": {
    "collapsed": true
   },
   "outputs": [],
   "source": []
  }
 ],
 "metadata": {
  "kernelspec": {
   "display_name": "Python 3",
   "language": "python",
   "name": "python3"
  },
  "language_info": {
   "codemirror_mode": {
    "name": "ipython",
    "version": 3
   },
   "file_extension": ".py",
   "mimetype": "text/x-python",
   "name": "python",
   "nbconvert_exporter": "python",
   "pygments_lexer": "ipython3",
   "version": "3.6.1"
  }
 },
 "nbformat": 4,
 "nbformat_minor": 2
}
