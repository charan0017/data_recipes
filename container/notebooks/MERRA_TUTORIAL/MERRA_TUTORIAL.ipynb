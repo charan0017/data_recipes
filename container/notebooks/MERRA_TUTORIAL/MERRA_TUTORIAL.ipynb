{
 "cells": [
  {
   "cell_type": "markdown",
   "metadata": {},
   "source": [
    "# Introduction"
   ]
  },
  {
   "cell_type": "markdown",
   "metadata": {},
   "source": [
    "In this tutorial, you will learn how to read and plot netCDF4 data from the [Modern-Era Retrospective analysis for Research and Applications Version 2 (MERRA-2)](https://gmao.gsfc.nasa.gov/reanalysis/MERRA-2/). We will download a dataset and plot the world's two-meter air temperature."
   ]
  },
  {
   "cell_type": "markdown",
   "metadata": {},
   "source": [
    "# Import Dependencies\n",
    "Let's import all the libraries we need. This needs to be done before any of the other cells can be run. These libraries were installed in the docker container you are using, so we will not need to worry about installing anything. Simply running the following cell takes care of all of the dependencies."
   ]
  },
  {
   "cell_type": "code",
   "execution_count": null,
   "metadata": {
    "collapsed": true
   },
   "outputs": [],
   "source": [
    "from mpl_toolkits.basemap import Basemap, cm\n",
    "import matplotlib.pyplot as plt\n",
    "import matplotlib.cm as cm\n",
    "import numpy as np\n",
    "import netCDF4"
   ]
  },
  {
   "cell_type": "markdown",
   "metadata": {},
   "source": [
    "# Approving the GES DISC DAAC\n",
    " \n",
    "Before we can obtain any GES DISC data, we need to approve the GES DISC DAAC in our Earthdata Account. If you do not yet have an Earthdata Login Account, [you can create one here](https://urs.earthdata.nasa.gov). Next, we will need to approve the GES DISC data. Go to [this link](https://urs.earthdata.nasa.gov/approve_app?client_id=e2WVk8Pw6weeLUKZYOxvTQ) and click approve. If you are prompted to login, fill out your login information and click the link again.\n",
    "\n",
    "# Downloading the Data"
   ]
  },
  {
   "cell_type": "markdown",
   "metadata": {},
   "source": [
    "Let's use the *wget* command to download the dataset to our local machine. We will first change directories into the directory of this Jupyter Notebook. In your terminal, type the following command:\n",
    "\n",
    "> `cd /home/condauser/tutorials/notebooks/MERRA_TUTORIAL/`\n",
    "\n",
    "<br>\n",
    "Now, you are in the same directory as this Jupyter Notebook.  Run the following command to list all files of this directory:\n",
    "\n",
    "> `ls`\n",
    "\n",
    "Next, we need to input your username and password for Earthdata login. Run the following command and enter your username and password when prompted:\n",
    "\n",
    "> `read -p \"enter your username: \" username; read -s -p \"enter your password: \" password; echo \"\"`\n",
    "\n",
    "<br> \n",
    "Now, let's run the following *wget* command to download the MERRA-2  *.nc4* file into this directory. We are obtaining this dataset from the GES DISC DAAC.  *wget* will require a URL for the data. We have provided that for you already. Later in this tutorial, we will learn where the data URL can be found. Run the following commands in your terminal.\n",
    "\n",
    "\n",
    "> `cd /home/condauser/tutorials/notebooks/MERRA_TUTORIAL`\n",
    "\n",
    "> `wget --user=\"$username\" --password=\"$password\" --no-check-certificate \"https://goldsmr4.gesdisc.eosdis.nasa.gov/data/MERRA2_MONTHLY/M2TMNXSLV.5.12.4/2010/MERRA2_300.tavgM_2d_slv_Nx.201001.nc4\"; username=\"\"; password=\"\"`"
   ]
  },
  {
   "cell_type": "markdown",
   "metadata": {},
   "source": [
    "Now, the data will be downloaded as a netCDF4 file to your local machine. You can see this by typing in the following command:\n",
    "\n",
    "> `ls`\n",
    "\n",
    "You should now see `MERRA2_300.tavgM_2d_slv_Nx.201001.nc4` in your directory.\n",
    "\n",
    "# Read the Data into Python"
   ]
  },
  {
   "cell_type": "markdown",
   "metadata": {},
   "source": [
    "Let's use the *netCDF4* package to import the data into Python. To do so, we will use the `Dataset()` method which takes in as input the datafile."
   ]
  },
  {
   "cell_type": "code",
   "execution_count": null,
   "metadata": {
    "collapsed": true
   },
   "outputs": [],
   "source": [
    "dataset = netCDF4.Dataset('MERRA2_300.tavgM_2d_slv_Nx.201001.nc4')"
   ]
  },
  {
   "cell_type": "markdown",
   "metadata": {},
   "source": [
    "We can list all of the variables that are stored in this dataset by using the `variables` attribute."
   ]
  },
  {
   "cell_type": "code",
   "execution_count": null,
   "metadata": {},
   "outputs": [],
   "source": [
    "for var in dataset.variables:\n",
    "    print(var)\n",
    "    print(\"-\"*40)\n"
   ]
  },
  {
   "cell_type": "markdown",
   "metadata": {},
   "source": [
    "Let's grab `lon`, `lat`, and `T2M`."
   ]
  },
  {
   "cell_type": "code",
   "execution_count": null,
   "metadata": {
    "collapsed": true
   },
   "outputs": [],
   "source": [
    "lon = dataset.variables[\"lon\"]\n",
    "lat = dataset.variables[\"lat\"]\n",
    "T2M = dataset.variables[\"T2M\"]"
   ]
  },
  {
   "cell_type": "code",
   "execution_count": null,
   "metadata": {},
   "outputs": [],
   "source": [
    "T2M"
   ]
  },
  {
   "cell_type": "markdown",
   "metadata": {},
   "source": [
    "In this case, `T2M` refers to the mean 2-meter air temperature. We can get information about this variable by doing the following."
   ]
  },
  {
   "cell_type": "code",
   "execution_count": null,
   "metadata": {},
   "outputs": [],
   "source": [
    "T2M.long_name"
   ]
  },
  {
   "cell_type": "code",
   "execution_count": null,
   "metadata": {},
   "outputs": [],
   "source": [
    "T2M.units"
   ]
  },
  {
   "cell_type": "code",
   "execution_count": null,
   "metadata": {},
   "outputs": [],
   "source": [
    "T2M.shape"
   ]
  },
  {
   "cell_type": "code",
   "execution_count": null,
   "metadata": {},
   "outputs": [],
   "source": [
    "T2M.dimensions"
   ]
  },
  {
   "cell_type": "markdown",
   "metadata": {},
   "source": [
    "# Plotting the Data\n",
    "\n",
    "We are going to use the packages *matplotlib*, *numpy*, and *basemap* to plot this data onto a world projection."
   ]
  },
  {
   "cell_type": "code",
   "execution_count": null,
   "metadata": {
    "collapsed": true
   },
   "outputs": [],
   "source": [
    "%matplotlib inline"
   ]
  },
  {
   "cell_type": "markdown",
   "metadata": {},
   "source": [
    "The above box ensures that any plots we create stay within the Jupyter Notebook."
   ]
  },
  {
   "cell_type": "markdown",
   "metadata": {},
   "source": [
    "## Reshape Data\n",
    "\n",
    "To use the *basemap* package, the latitude, longitude and precipitation data must be the same numpy array shape. This is because basemap projects the data onto the the longitude and latitude coordinates."
   ]
  },
  {
   "cell_type": "code",
   "execution_count": null,
   "metadata": {},
   "outputs": [],
   "source": [
    "lon.ndim"
   ]
  },
  {
   "cell_type": "code",
   "execution_count": null,
   "metadata": {},
   "outputs": [],
   "source": [
    "lon.shape"
   ]
  },
  {
   "cell_type": "code",
   "execution_count": null,
   "metadata": {},
   "outputs": [],
   "source": [
    "lat.ndim"
   ]
  },
  {
   "cell_type": "code",
   "execution_count": null,
   "metadata": {},
   "outputs": [],
   "source": [
    "lat.shape"
   ]
  },
  {
   "cell_type": "code",
   "execution_count": null,
   "metadata": {},
   "outputs": [],
   "source": [
    "T2M.ndim"
   ]
  },
  {
   "cell_type": "code",
   "execution_count": null,
   "metadata": {},
   "outputs": [],
   "source": [
    "T2M.shape"
   ]
  },
  {
   "cell_type": "markdown",
   "metadata": {},
   "source": [
    "Even though `T2M` is three dimensions, the first dimensions corresponds to time, so we can just use one time stamp. We can grab the first time chunk using the following *numpy* syntax."
   ]
  },
  {
   "cell_type": "code",
   "execution_count": null,
   "metadata": {
    "collapsed": true
   },
   "outputs": [],
   "source": [
    "T2M_t0 = T2M[0,:,:]"
   ]
  },
  {
   "cell_type": "code",
   "execution_count": null,
   "metadata": {},
   "outputs": [],
   "source": [
    "T2M_t0.shape"
   ]
  },
  {
   "cell_type": "markdown",
   "metadata": {},
   "source": [
    "Now, we need to reconfigure the coordinate data to a 2-dimensional grid. We can do so by using the *numpy* `meshgrid()` method. Specifically, the coordinate data must be a 2-dimensional grid with a shape of (361, 576) so that it matches the shape and dimensions of the temperature data. "
   ]
  },
  {
   "cell_type": "code",
   "execution_count": null,
   "metadata": {
    "collapsed": true
   },
   "outputs": [],
   "source": [
    "lons, lats = np.meshgrid(lon, lat)"
   ]
  },
  {
   "cell_type": "code",
   "execution_count": null,
   "metadata": {},
   "outputs": [],
   "source": [
    "lats.shape"
   ]
  },
  {
   "cell_type": "markdown",
   "metadata": {},
   "source": [
    "Now, let's check the dimensions and shapes of our coordinates and temperature data."
   ]
  },
  {
   "cell_type": "code",
   "execution_count": null,
   "metadata": {},
   "outputs": [],
   "source": [
    "lats.shape == lons.shape == T2M_t0.shape"
   ]
  },
  {
   "cell_type": "markdown",
   "metadata": {},
   "source": [
    "Below is an example of how meshgrid can be used.\n"
   ]
  },
  {
   "cell_type": "code",
   "execution_count": null,
   "metadata": {},
   "outputs": [],
   "source": [
    "# example of np.meshgrid\n",
    "xs = np.linspace(0,5,6)\n",
    "ys = np.linspace(9,12,4)\n",
    "print(\"xs\")\n",
    "print(xs, xs.shape)\n",
    "print('\\nys')\n",
    "print(ys, ys.shape)\n",
    "print('\\nxgrid')\n",
    "xgrid, ygrid = np.meshgrid(xs, ys)\n",
    "print(xgrid, xgrid.shape)\n",
    "print('\\nygrid')\n",
    "print(ygrid, ygrid.shape)"
   ]
  },
  {
   "cell_type": "markdown",
   "metadata": {},
   "source": [
    "Now, we are ready to plot."
   ]
  },
  {
   "cell_type": "markdown",
   "metadata": {},
   "source": [
    "## Using Basemap"
   ]
  },
  {
   "cell_type": "code",
   "execution_count": null,
   "metadata": {},
   "outputs": [],
   "source": [
    "plt.figure(figsize = (15,15))\n",
    "plt.title(\"2-Meter Mean Air Temperature\")\n",
    "b = Basemap(projection=\"robin\", lat_0=0, lon_0=0)\n",
    "b.drawcoastlines()\n",
    "cs = b.pcolor(lons, lats, T2M_t0, vmin=230, vmax=295, cmap=cm.jet, shading='flat',latlon=True)\n",
    "cbar = b.colorbar(cs, location=\"bottom\", pad=\"5%\")\n",
    "cbar.set_label(\"Temperature (K)\")\n",
    "plt.show()"
   ]
  },
  {
   "cell_type": "markdown",
   "metadata": {},
   "source": [
    "## Saving the file\n",
    "\n",
    "You can save the file to the same directory as the Jupyter Notebook using the following command. You can adjust the `dpi` to alter the quality of the image."
   ]
  },
  {
   "cell_type": "code",
   "execution_count": null,
   "metadata": {},
   "outputs": [],
   "source": [
    "plt.savefig('MERRA2_2m_airTemp_TEST.png', format='png', dpi=360)"
   ]
  },
  {
   "cell_type": "code",
   "execution_count": null,
   "metadata": {
    "collapsed": true
   },
   "outputs": [],
   "source": []
  }
 ],
 "metadata": {
  "kernelspec": {
   "display_name": "Python 3",
   "language": "python",
   "name": "python3"
  },
  "language_info": {
   "codemirror_mode": {
    "name": "ipython",
    "version": 3
   },
   "file_extension": ".py",
   "mimetype": "text/x-python",
   "name": "python",
   "nbconvert_exporter": "python",
   "pygments_lexer": "ipython3",
   "version": "3.6.1"
  }
 },
 "nbformat": 4,
 "nbformat_minor": 2
}
